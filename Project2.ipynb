{
  "nbformat": 4,
  "nbformat_minor": 0,
  "metadata": {
    "colab": {
      "provenance": [],
      "gpuType": "A100"
    },
    "kernelspec": {
      "name": "python3",
      "display_name": "Python 3"
    },
    "language_info": {
      "name": "python"
    },
    "accelerator": "GPU"
  },
  "cells": [
    {
      "cell_type": "markdown",
      "source": [
        "# Project 2 - The best feature selection methods\n",
        "### Hubert Jaczyński, Aleksandra Kłos, Jakub Oganowski"
      ],
      "metadata": {
        "id": "TrrsTcJ2Dxc4"
      }
    },
    {
      "cell_type": "markdown",
      "source": [
        "## Introduction\n",
        "In this project, our goal is to develop a predictive model that is both accurate and cost-effective — meaning it should reliably identify high-energy households based on as few variables as possible. Such dual focus is driven by a business case: detailed data collection is expensive, and the utility provider wants to target support effectively."
      ],
      "metadata": {
        "id": "nCl1iQpTqoRf"
      }
    },
    {
      "cell_type": "markdown",
      "source": [
        "## Data\n",
        "\n",
        "**Training data:**\n",
        "\n",
        "- 5000 households x 500 anonymized variables (`x_train.txt`)\n",
        "\n",
        "- Labels indicating high (label 1) vs. acceptable usage (label 0) (`y_train.txt`)\n",
        "\n",
        "\n",
        "**Test data:**\n",
        "\n",
        "- 5000 households, same variables (`x_test.txt`)\n",
        "\n",
        "\n",
        "Our prediction task is to select 1000 households from the test set that are most likely to exceed the usage threshold next month, as the utility company can only offer the energy-saving package to a limited number of clients per month."
      ],
      "metadata": {
        "id": "FAzqy6twr01y"
      }
    },
    {
      "cell_type": "markdown",
      "source": [
        "# Model evaluation criteria\n",
        "\n",
        "Model performance is measured by a score (in our case called `net_score`) that rewards accurate identification of high usage households. Nevertheless, it penalizes the number of variables used in order to reflect data costs:\n",
        "\n",
        "- +10 EUR for each correctly identified household\n",
        "\n",
        "- -200 EUR for each variable used in the model\n",
        "\n",
        "Thus, the objective is to maximize this score."
      ],
      "metadata": {
        "id": "QznVUb-Lst2Y"
      }
    },
    {
      "cell_type": "markdown",
      "source": [
        "\n",
        "# Methdology\n",
        "\n",
        "To address the problem, we will focus on data preprocessing and feature selection with an aim to remove as many non-informative/redundant columns as possible at the very beginning. More precisely, we will:\n",
        "\n",
        "- Calculate basic statistics and compare distributions between training and test sets.\n",
        "\n",
        "- Remove mismatched columns.\n",
        "\n",
        "- Calculate variable correlations\n",
        "\n",
        "- Check for outliers to reduce their impact on model fitting\n",
        "\n",
        "\n",
        "Our research is highly based on the ideas mentioned in this comprehensive blog: https://neptune.ai/blog/tabular-data-binary-classification-tips-and-tricks-from-5-kaggle-competitions#:~:text=%2A%20Stratified%20KFold%20cross,Time%20Series%20split%20validation"
      ],
      "metadata": {
        "id": "lCvDd1XsEBYi"
      }
    },
    {
      "cell_type": "markdown",
      "source": [
        "# Library definitions"
      ],
      "metadata": {
        "id": "6xihcXZSLUDP"
      }
    },
    {
      "cell_type": "code",
      "source": [
        "import pandas as pd\n",
        "import numpy as np\n",
        "from scipy.stats import ks_2samp\n",
        "\n"
      ],
      "metadata": {
        "id": "7qLWEGmwLX_4"
      },
      "execution_count": null,
      "outputs": []
    },
    {
      "cell_type": "markdown",
      "source": [
        "# Data preprocessing"
      ],
      "metadata": {
        "id": "lcNiZnafzS3N"
      }
    },
    {
      "cell_type": "markdown",
      "source": [
        "First of all, let us check some features' statistics in both train and test data. Let us then compare top 10 of them:"
      ],
      "metadata": {
        "id": "4IOIPgIyEcRG"
      }
    },
    {
      "cell_type": "code",
      "execution_count": 2,
      "metadata": {
        "colab": {
          "base_uri": "https://localhost:8080/"
        },
        "id": "ipiFsA6YCtyi",
        "outputId": "ec34d9da-bae6-4e5a-c60f-69d3248809a3"
      },
      "outputs": [
        {
          "output_type": "stream",
          "name": "stdout",
          "text": [
            "         train_mean  test_mean  mean_diff  train_variance  test_variance  \\\n",
            "feature                                                                    \n",
            "0         15.560411  15.507078  -0.053333       18.730704      17.260227   \n",
            "1         12.650449  12.655507   0.005058       14.317654      13.704232   \n",
            "2         27.750084  27.736016  -0.014067       48.258792      44.019127   \n",
            "3         18.796808  18.825133   0.028325       24.323544      22.632589   \n",
            "4         19.071302  18.995343  -0.075959       27.471500      25.135808   \n",
            "5         11.820110  11.769083  -0.051027       13.312292      12.482966   \n",
            "6         19.365360  19.355964  -0.009395       28.260874      25.857634   \n",
            "7         15.602632  15.517396  -0.085235       19.669401      18.001512   \n",
            "8         14.163618  14.233636   0.070018       19.810112      19.051235   \n",
            "9         15.989661  16.041487   0.051826       22.978933      22.298445   \n",
            "\n",
            "         variance_ratio  corr_with_target  \n",
            "feature                                    \n",
            "0              0.921494          0.300607  \n",
            "1              0.957156          0.290802  \n",
            "2              0.912147          0.374769  \n",
            "3              0.930481          0.339719  \n",
            "4              0.914978          0.316651  \n",
            "5              0.937702          0.301198  \n",
            "6              0.914962          0.338679  \n",
            "7              0.915204          0.320353  \n",
            "8              0.961692          0.307160  \n",
            "9              0.970386          0.283087  \n"
          ]
        }
      ],
      "source": [
        "x_train = pd.read_csv('/content/x_train.txt', sep=r'\\s+', header=None)\n",
        "y_train = pd.read_csv('/content/y_train.txt', sep=r'\\s+', header=None)[0]\n",
        "x_test  = pd.read_csv('/content/x_test.txt',  sep=r'\\s+', header=None)\n",
        "\n",
        "stats = []\n",
        "for i in x_train.columns:\n",
        "    t_mean = x_train[i].mean()\n",
        "    s_mean = x_test[i].mean()\n",
        "    t_var = x_train[i].var()\n",
        "    s_var = x_test[i].var()\n",
        "    stats.append({\n",
        "        'feature': i,\n",
        "        'train_mean': t_mean,\n",
        "        'test_mean': s_mean,\n",
        "        'mean_diff': s_mean - t_mean,\n",
        "        'train_variance': t_var,\n",
        "        'test_variance': s_var,\n",
        "        'variance_ratio': (s_var / t_var) if t_var>0 else np.nan,\n",
        "        'corr_with_target': x_train[i].corr(y_train)})\n",
        "\n",
        "summary_df = pd.DataFrame(stats).set_index('feature')\n",
        "\n",
        "print(summary_df.head(10))\n"
      ]
    },
    {
      "cell_type": "markdown",
      "source": [
        "The above results suggest us the following:\n",
        "\n",
        "- Train and test feature means are nearly identical for the top 10 features, with differences all less than 0.1. This means that training and test datasets are well-matched and there is no significant shift or anomaly in the feature distributions.\n",
        "\n",
        "- Feature variances are also very similar between train and test sets, meaning that the spread and variability of each feature is consistent across both datasets.\n",
        "\n",
        "- Lastly, the correlation of each feature with the target variable in the training set ranges from about 0.28 to 0.37. The results indicate that these features are to some degree informative for predicting the target, but none is extremely dominant."
      ],
      "metadata": {
        "id": "VgEPRl6S9uW8"
      }
    },
    {
      "cell_type": "markdown",
      "source": [
        "In this part, we will look at distribution mismatches and test using Komogorov-Smirnov test (ref: https://www.itl.nist.gov/div898/handbook/eda/section3/eda35g.htm). Moreover, we will look at outliers and cap them to 1st and 99th percentiles and display mismatches:"
      ],
      "metadata": {
        "id": "pMZFe27bGim5"
      }
    },
    {
      "cell_type": "code",
      "source": [
        "q_low = x_train.quantile(0.01)\n",
        "q_high = x_train.quantile(0.99)\n",
        "\n",
        "stats = []\n",
        "\n",
        "for col in x_train.columns:\n",
        "    ks_stat, ks_p = ks_2samp(x_train[col], x_test[col])\n",
        "    train_outliers = ((x_train[col] < q_low[col]) | (x_train[col] > q_high[col])).sum()\n",
        "    test_outliers = ((x_test[col]  < q_low[col]) | (x_test[col]  > q_high[col])).sum()\n",
        "    stats.append({\n",
        "        'feature': col,\n",
        "        'ks_stat': ks_stat,\n",
        "        'ks_pvalue': ks_p,\n",
        "        'train_outliers': train_outliers,\n",
        "        'test_outliers': test_outliers,\n",
        "        'train_q01': q_low[col],\n",
        "        'train_q99': q_high[col],\n",
        "        'train_min': x_train[col].min(),\n",
        "        'train_max': x_train[col].max(),\n",
        "        'test_min': x_test[col].min(),\n",
        "        'test_max': x_test[col].max(),})\n",
        "\n",
        "stats_df = pd.DataFrame(stats).set_index('feature')\n",
        "\n",
        "print(\"KS statistics for top 10 ks_stat features:\")\n",
        "print(stats_df.sort_values('ks_stat', ascending=False).head(10))\n",
        "\n",
        "x_train_capped = x_train.clip(lower=q_low, upper=q_high, axis=1)\n",
        "x_test_capped = x_test.clip( lower=q_low, upper=q_high, axis=1)\n",
        "\n",
        "ks_after = []\n",
        "\n",
        "for col in x_train.columns:\n",
        "    ks2, p2 = ks_2samp(x_train_capped[col], x_test_capped[col])\n",
        "    ks_after.append(ks2)\n",
        "stats_df['ks_after_capping'] = ks_after\n",
        "\n",
        "print(\"\\nKS statistics for top 10 ks_stat features: after capping:\")\n",
        "top10 = stats_df.sort_values('ks_stat', ascending=False).head(10)\n",
        "print(top10[['ks_stat','ks_after_capping']])"
      ],
      "metadata": {
        "colab": {
          "base_uri": "https://localhost:8080/"
        },
        "id": "ueQOMfhPMI0h",
        "outputId": "d9736735-72a2-4e36-ca5a-703abb051036"
      },
      "execution_count": 33,
      "outputs": [
        {
          "output_type": "stream",
          "name": "stdout",
          "text": [
            "KS statistics for top 10 ks_stat features:\n",
            "         ks_stat  ks_pvalue  train_outliers  test_outliers  train_q01  \\\n",
            "feature                                                                 \n",
            "428       0.0426   0.000229             100            112   2.665452   \n",
            "107       0.0368   0.002291             100             97  -2.315544   \n",
            "130       0.0368   0.002291             100            105  -2.249431   \n",
            "135       0.0354   0.003798             100            110  -2.354010   \n",
            "394       0.0340   0.006174             100            156   0.012440   \n",
            "303       0.0338   0.006607             100             76   0.008643   \n",
            "296       0.0336   0.007068             100             92   0.022230   \n",
            "252       0.0324   0.010504             100            108   0.025570   \n",
            "34        0.0314   0.014451             100             99  -2.257608   \n",
            "266       0.0308   0.017417             100            144   0.030595   \n",
            "\n",
            "         train_q99  train_min  train_max  test_min   test_max  \n",
            "feature                                                        \n",
            "428      23.415190   0.830056  34.928336  1.114300  32.063120  \n",
            "107       2.328245  -3.661105   3.565555 -3.407935   3.174591  \n",
            "130       2.302304  -3.641161   3.584047 -3.387836   3.381168  \n",
            "135       2.281959  -3.492702   3.617008 -3.427228   3.703639  \n",
            "394       0.988695   0.000535   0.999467  0.000059   0.999838  \n",
            "303       0.990880   0.000035   0.999969  0.000126   0.999650  \n",
            "296       9.410959   0.000598  18.144028  0.000620  17.965835  \n",
            "252       9.690338   0.000460  15.506521  0.001080  17.864720  \n",
            "34        2.389097  -3.176476   4.311408 -3.753966   3.770609  \n",
            "266       8.854601   0.000885  17.840303  0.000150  17.373207  \n",
            "\n",
            "KS statistics for top 10 ks_stat features: after capping:\n",
            "         ks_stat  ks_after_capping\n",
            "feature                           \n",
            "428       0.0426            0.0426\n",
            "107       0.0368            0.0368\n",
            "130       0.0368            0.0368\n",
            "135       0.0354            0.0354\n",
            "394       0.0340            0.0340\n",
            "303       0.0338            0.0338\n",
            "296       0.0336            0.0336\n",
            "252       0.0324            0.0324\n",
            "34        0.0314            0.0314\n",
            "266       0.0308            0.0308\n"
          ]
        }
      ]
    },
    {
      "cell_type": "markdown",
      "source": [
        "We can interpret the results as follows:\n",
        "\n",
        "- The Komogorov-Smirnov test shows that the top 10 features with the largest distribution differences between `train` and `test` have Komogorov-Smirnov statistics below 0.05. This suggests the overall shape of these distributions is quite similar, but some differences are statistically significant due to large sample sizes.\n",
        "\n",
        "- Restricting outliers to the 1st and 99th percentiles has had almost no effect on the Komogorov-Smirnov statistic. This mean the misfit of the distributions between the control and test groups is not due to a small number of outliers but rather to small differences across most of the distributions.\n",
        "\n",
        "- Finally, although the p-values of the Komogorov-Smirnov test indicate plausible differences, the absolute magnitude of the differences is small as all Komogorov-Smirnov statistics are less than 0.05. Thus, the impact on model generalizability is rather minimal."
      ],
      "metadata": {
        "id": "pymiZZzq_jFJ"
      }
    },
    {
      "cell_type": "markdown",
      "source": [
        "Now, we will recalculate Komogorov-Smirnov test, use QuantileTransformer to cap the data. Moreover, we will utilize Adversarial Validation using Random Forest to distinguish between test and train, as well as we will drop some of the features that mismatch:"
      ],
      "metadata": {
        "id": "93CHqrrSj5oM"
      }
    },
    {
      "cell_type": "code",
      "source": [
        "import pandas as pd\n",
        "import numpy as np\n",
        "from scipy.stats import ks_2samp\n",
        "from sklearn.preprocessing import QuantileTransformer\n",
        "from sklearn.model_selection import train_test_split\n",
        "from sklearn.ensemble import RandomForestClassifier\n",
        "from sklearn.metrics import roc_auc_score, accuracy_score\n",
        "\n",
        "\n",
        "q_low, q_high = x_train.quantile(0.01), x_train.quantile(0.99)\n",
        "\n",
        "stats = []\n",
        "\n",
        "for col in x_train.columns:\n",
        "    ks_stat, _ = ks_2samp(x_train[col], x_test[col])\n",
        "    test_out = ((x_test[col] < q_low[col]) | (x_test[col] > q_high[col])).sum()\n",
        "    stats.append({'feature': col, 'ks_stat': ks_stat, 'test_outliers': test_out})\n",
        "stats_df = pd.DataFrame(stats).set_index('feature')\n",
        "\n",
        "ks_thresh = 0.035\n",
        "outlier_thresh = 120\n",
        "flagged = stats_df[\n",
        "    (stats_df['ks_stat'] >= ks_thresh) |\n",
        "    (stats_df['test_outliers'] > outlier_thresh)].index.tolist()\n",
        "\n",
        "print(f\"Flagged features (KS >= {ks_thresh} or test_outliers > {outlier_thresh}):\\n{flagged}\\n\")\n",
        "\n",
        "qt = QuantileTransformer(output_distribution='uniform', random_state=0)\n",
        "combined = pd.concat([x_train[flagged], x_test[flagged]], axis=0)\n",
        "qt.fit(combined)\n",
        "\n",
        "x_train_qt = x_train.copy()\n",
        "x_test_qt = x_test.copy()\n",
        "x_train_qt[flagged] = qt.transform(x_train[flagged])\n",
        "x_test_qt[flagged] = qt.transform(x_test[flagged])\n",
        "\n",
        "X_adv = pd.concat([x_train_qt[flagged], x_test_qt[flagged]], axis=0)\n",
        "y_adv = np.concatenate([np.zeros(len(x_train_qt)), np.ones(len(x_test_qt))])\n",
        "\n",
        "X_tr, X_val, y_tr, y_val = train_test_split(\n",
        "    X_adv, y_adv, test_size=0.3, random_state=0, stratify=y_adv)\n",
        "\n",
        "rf = RandomForestClassifier(n_estimators=100, random_state=0)\n",
        "rf.fit(X_tr, y_tr)\n",
        "\n",
        "y_prob = rf.predict_proba(X_val)[:,1]\n",
        "print(f\"Adversarial AUC: {roc_auc_score(y_val, y_prob):.3f}, \"f\"Accuracy: {accuracy_score(y_val, rf.predict(X_val)):.3f}\\n\")\n",
        "\n",
        "importances = pd.Series(rf.feature_importances_, index=flagged).sort_values(ascending=False)\n",
        "print(\"Top 10 adversarial-important features:\")\n",
        "print(importances.head(10), \"\\n\")\n",
        "\n",
        "new_stats = []\n",
        "for col in flagged:\n",
        "    ks2, _ = ks_2samp(x_train_qt[col], x_test_qt[col])\n",
        "    new_stats.append({'feature': col, 'ks_after': ks2})\n",
        "new_df = pd.DataFrame(new_stats).set_index('feature')\n",
        "print(\"KS after QuantileTransform:\")\n",
        "print(new_df, \"\\n\")\n",
        "\n",
        "to_drop = new_df[new_df['ks_after'] > ks_thresh].index.tolist()\n",
        "keep_after = [f for f in flagged if f not in to_drop]\n",
        "print(f\"Features to drop (ks_after > {ks_thresh}): {to_drop}\")\n",
        "print(f\"Features to keep: {keep_after}\\n\")\n",
        "\n",
        "x_train_processed = x_train_qt.drop(columns=to_drop)\n",
        "x_test_processed  = x_test_qt.drop(columns=to_drop)\n",
        "\n",
        "print(f\"Final shapes --> x_train: {x_train_processed.shape}, x_test: {x_test_processed.shape}\")"
      ],
      "metadata": {
        "colab": {
          "base_uri": "https://localhost:8080/"
        },
        "id": "VXreImYIMLsP",
        "outputId": "757d4f60-3bcd-465b-ed96-00ac123ce215"
      },
      "execution_count": 4,
      "outputs": [
        {
          "output_type": "stream",
          "name": "stdout",
          "text": [
            "Flagged features (KS >= 0.035 or test_outliers > 120):\n",
            "[11, 20, 24, 44, 47, 50, 55, 107, 114, 117, 121, 122, 123, 127, 130, 133, 135, 163, 175, 177, 184, 188, 193, 198, 204, 214, 225, 232, 244, 253, 264, 266, 279, 342, 343, 354, 388, 390, 394, 399, 404, 413, 426, 428, 430, 434, 439, 464]\n",
            "\n",
            "Adversarial AUC: 0.501, Accuracy: 0.490\n",
            "\n",
            "Top 10 adversarial-important features:\n",
            "130    0.022881\n",
            "107    0.022392\n",
            "428    0.022245\n",
            "388    0.022131\n",
            "135    0.021990\n",
            "184    0.021944\n",
            "117    0.021707\n",
            "394    0.021654\n",
            "204    0.021605\n",
            "232    0.021597\n",
            "dtype: float64 \n",
            "\n",
            "KS after QuantileTransform:\n",
            "         ks_after\n",
            "feature          \n",
            "11         0.0078\n",
            "20         0.0186\n",
            "24         0.0134\n",
            "44         0.0206\n",
            "47         0.0164\n",
            "50         0.0206\n",
            "55         0.0242\n",
            "107        0.0368\n",
            "114        0.0084\n",
            "117        0.0218\n",
            "121        0.0184\n",
            "122        0.0178\n",
            "123        0.0180\n",
            "127        0.0196\n",
            "130        0.0368\n",
            "133        0.0172\n",
            "135        0.0354\n",
            "163        0.0120\n",
            "175        0.0176\n",
            "177        0.0106\n",
            "184        0.0180\n",
            "188        0.0114\n",
            "193        0.0166\n",
            "198        0.0084\n",
            "204        0.0204\n",
            "214        0.0230\n",
            "225        0.0190\n",
            "232        0.0102\n",
            "244        0.0118\n",
            "253        0.0188\n",
            "264        0.0166\n",
            "266        0.0308\n",
            "279        0.0226\n",
            "342        0.0134\n",
            "343        0.0100\n",
            "354        0.0198\n",
            "388        0.0166\n",
            "390        0.0172\n",
            "394        0.0340\n",
            "399        0.0280\n",
            "404        0.0156\n",
            "413        0.0142\n",
            "426        0.0138\n",
            "428        0.0426\n",
            "430        0.0240\n",
            "434        0.0096\n",
            "439        0.0184\n",
            "464        0.0218 \n",
            "\n",
            "Features to drop (ks_after > 0.035): [107, 130, 135, 428]\n",
            "Features to keep: [11, 20, 24, 44, 47, 50, 55, 114, 117, 121, 122, 123, 127, 133, 163, 175, 177, 184, 188, 193, 198, 204, 214, 225, 232, 244, 253, 264, 266, 279, 342, 343, 354, 388, 390, 394, 399, 404, 413, 426, 430, 434, 439, 464]\n",
            "\n",
            "Final shapes --> x_train: (5000, 496), x_test: (5000, 496)\n"
          ]
        }
      ]
    },
    {
      "cell_type": "markdown",
      "source": [
        "From the theory we know that Adversarial Validation trains a classifier, in our case, Random Forest, to distinguish between train and test samples. Additionally, it uses features as inputs and a train vs. test label as the target. Particularly, the results presents in the following way:\n",
        "\n",
        "- AUC measure is 0.501, whereas accuracy is 0.490. These values are close to 0.5. This shows that the classifier cannot distinguish train from test any better than random guessing. Overall, our train and test sets are well-matched togther.\n",
        "\n",
        "- Moreover, the indicated features are the ones most useful to the adversarial classifier, as they have the highest Komogorov-Smirnov value. This only indicates that the mismatch is localized only in particular features, not in the whole dataset."
      ],
      "metadata": {
        "id": "S-MKV48gCnbi"
      }
    },
    {
      "cell_type": "markdown",
      "source": [
        "This time, let us check Variance Threshold that are near-zero. Furthermore, we will remove highly correlated features if there exist such. We will also scale the remaining features using both train and test data:"
      ],
      "metadata": {
        "id": "gvI3ZxVGkS_P"
      }
    },
    {
      "cell_type": "code",
      "source": [
        "import pandas as pd\n",
        "import numpy as np\n",
        "from scipy.stats import ks_2samp\n",
        "from sklearn.preprocessing import QuantileTransformer, StandardScaler\n",
        "from sklearn.feature_selection import VarianceThreshold\n",
        "\n",
        "\n",
        "sel = VarianceThreshold(threshold=1e-5)\n",
        "sel.fit(x_train_processed)\n",
        "\n",
        "keep_var = x_train_processed.columns[sel.get_support()]\n",
        "drop_var = [c for c in x_train_processed.columns if c not in keep_var]\n",
        "print(\"Dropped for near-zero variance:\", drop_var)\n",
        "\n",
        "x_train_var = x_train_processed[keep_var].copy()\n",
        "x_test_var = x_test_processed[keep_var].copy()\n",
        "\n",
        "corr = x_train_var.corr().abs()\n",
        "upper = corr.where(np.triu(np.ones(corr.shape), k=1).astype(bool))\n",
        "\n",
        "drop_corr = [col for col in upper.columns if any(upper[col] > 0.95)]\n",
        "print(\"Dropped for high correlation:\", drop_corr)\n",
        "x_train_corr = x_train_var.drop(columns=drop_corr).copy()\n",
        "x_test_corr = x_test_var.drop(columns=drop_corr).copy()\n",
        "\n",
        "scaler = StandardScaler()\n",
        "combined = pd.concat([x_train_corr, x_test_corr], axis=0)\n",
        "scaler.fit(combined)\n",
        "\n",
        "x_train_final = pd.DataFrame(\n",
        "    scaler.transform(x_train_corr),\n",
        "    columns=x_train_corr.columns,\n",
        "    index=x_train_corr.index)\n",
        "\n",
        "x_test_final = pd.DataFrame(\n",
        "    scaler.transform(x_test_corr),\n",
        "    columns=x_test_corr.columns,\n",
        "    index=x_test_corr.index)\n",
        "\n",
        "print(\"Final shapes -->\", x_train_final.shape, x_test_final.shape)"
      ],
      "metadata": {
        "colab": {
          "base_uri": "https://localhost:8080/"
        },
        "id": "lI0DrgtVMQeh",
        "outputId": "5fdcf1e8-6c84-4a0b-e675-88428a1b3ca1"
      },
      "execution_count": 5,
      "outputs": [
        {
          "output_type": "stream",
          "name": "stdout",
          "text": [
            "Dropped for near-zero variance: []\n",
            "Dropped for high correlation: [7]\n",
            "Final shapes --> (5000, 495) (5000, 495)\n"
          ]
        }
      ]
    },
    {
      "cell_type": "markdown",
      "source": [
        " After all these steps, we have 495 features remaining (down from 496, after dropping one for correlation). Thus,  and both the training and test datasets are ready for modeling."
      ],
      "metadata": {
        "id": "9Uev68qqEVWV"
      }
    },
    {
      "cell_type": "markdown",
      "source": [
        "## Model training and optimization"
      ],
      "metadata": {
        "id": "Pk8F3goxEgxT"
      }
    },
    {
      "cell_type": "markdown",
      "source": [
        "Firstly, we will install hyperparameter optimization framework Optuna:"
      ],
      "metadata": {
        "id": "KVbDmcAYknZc"
      }
    },
    {
      "cell_type": "code",
      "source": [
        "!pip install optuna"
      ],
      "metadata": {
        "colab": {
          "base_uri": "https://localhost:8080/"
        },
        "id": "Jpf68SLNvLio",
        "outputId": "8b2287a7-1924-4c6e-c6cf-5b5ee61a2ce6"
      },
      "execution_count": 6,
      "outputs": [
        {
          "output_type": "stream",
          "name": "stdout",
          "text": [
            "Collecting optuna\n",
            "  Downloading optuna-4.3.0-py3-none-any.whl.metadata (17 kB)\n",
            "Collecting alembic>=1.5.0 (from optuna)\n",
            "  Downloading alembic-1.16.1-py3-none-any.whl.metadata (7.3 kB)\n",
            "Collecting colorlog (from optuna)\n",
            "  Downloading colorlog-6.9.0-py3-none-any.whl.metadata (10 kB)\n",
            "Requirement already satisfied: numpy in /usr/local/lib/python3.11/dist-packages (from optuna) (2.0.2)\n",
            "Requirement already satisfied: packaging>=20.0 in /usr/local/lib/python3.11/dist-packages (from optuna) (24.2)\n",
            "Requirement already satisfied: sqlalchemy>=1.4.2 in /usr/local/lib/python3.11/dist-packages (from optuna) (2.0.41)\n",
            "Requirement already satisfied: tqdm in /usr/local/lib/python3.11/dist-packages (from optuna) (4.67.1)\n",
            "Requirement already satisfied: PyYAML in /usr/local/lib/python3.11/dist-packages (from optuna) (6.0.2)\n",
            "Requirement already satisfied: Mako in /usr/lib/python3/dist-packages (from alembic>=1.5.0->optuna) (1.1.3)\n",
            "Requirement already satisfied: typing-extensions>=4.12 in /usr/local/lib/python3.11/dist-packages (from alembic>=1.5.0->optuna) (4.13.2)\n",
            "Requirement already satisfied: greenlet>=1 in /usr/local/lib/python3.11/dist-packages (from sqlalchemy>=1.4.2->optuna) (3.2.2)\n",
            "Downloading optuna-4.3.0-py3-none-any.whl (386 kB)\n",
            "\u001b[2K   \u001b[90m━━━━━━━━━━━━━━━━━━━━━━━━━━━━━━━━━━━━━━━━\u001b[0m \u001b[32m386.6/386.6 kB\u001b[0m \u001b[31m8.9 MB/s\u001b[0m eta \u001b[36m0:00:00\u001b[0m\n",
            "\u001b[?25hDownloading alembic-1.16.1-py3-none-any.whl (242 kB)\n",
            "\u001b[2K   \u001b[90m━━━━━━━━━━━━━━━━━━━━━━━━━━━━━━━━━━━━━━━━\u001b[0m \u001b[32m242.5/242.5 kB\u001b[0m \u001b[31m23.2 MB/s\u001b[0m eta \u001b[36m0:00:00\u001b[0m\n",
            "\u001b[?25hDownloading colorlog-6.9.0-py3-none-any.whl (11 kB)\n",
            "Installing collected packages: colorlog, alembic, optuna\n",
            "Successfully installed alembic-1.16.1 colorlog-6.9.0 optuna-4.3.0\n"
          ]
        }
      ]
    },
    {
      "cell_type": "markdown",
      "source": [
        "We chose diverse classification algorithms. The idea behind it was simple - we have wanted to compare their performance and capture different relationships within the data. These are the following:\n",
        "\n",
        "1. Logistic Regression (L1 and ElasticNet regularization)\n",
        "2. Support Vector Machine (SVM)\n",
        "3. K-Nearest Neighbors (KNN)\n",
        "4. Random Forest\n",
        "5. XGBoost\n",
        "6. LightGBM"
      ],
      "metadata": {
        "id": "r_CqImgSFrOG"
      }
    },
    {
      "cell_type": "markdown",
      "source": [
        "Now, for all classifiers of choice, we will create our net_score that we want to minimize, do an optuna search to find best parameters of C and threshold. After that, we will use SHAP to rank features by importance. What is more, we will utilize the Bootstrap stability check:"
      ],
      "metadata": {
        "id": "wZOiaFx6kzXz"
      }
    },
    {
      "cell_type": "code",
      "source": [
        "import numpy as np\n",
        "import pandas as pd\n",
        "import optuna\n",
        "import shap\n",
        "from sklearn.linear_model import LogisticRegression\n",
        "from sklearn.ensemble import RandomForestClassifier\n",
        "from sklearn.model_selection import StratifiedKFold\n",
        "from sklearn.metrics import accuracy_score\n",
        "from sklearn.svm import SVC\n",
        "from sklearn.preprocessing import StandardScaler\n",
        "from sklearn.feature_selection import SelectKBest, mutual_info_classif\n",
        "from xgboost import XGBClassifier\n",
        "from lightgbm import LGBMClassifier\n",
        "import warnings\n",
        "warnings.filterwarnings(\"ignore\", category=FutureWarning)\n",
        "\n",
        "# scailing features for algorithms that are sensitive to feature scale\n",
        "scaler = StandardScaler()\n",
        "x_train_scaled = pd.DataFrame(scaler.fit_transform(x_train_final), columns=x_train_final.columns)\n",
        "x_test_scaled = pd.DataFrame(scaler.transform(x_test_final), columns=x_test_final.columns)\n",
        "\n",
        "\n",
        "def net_score(y_true, y_pred, n_features):\n",
        "    \"\"\"\n",
        "    A score that balances number of correct positives vs. number of features (parsimony vs. accuracy).\n",
        "    \"\"\"\n",
        "\n",
        "    acc = accuracy_score(y_true, y_pred)\n",
        "    return 10 * acc * len(y_true) - 200 * n_features\n",
        "\n",
        "def count_tree_features(model):\n",
        "    \"\"\"\n",
        "    Counts how many features are used in a tree-based model (with non-0 importance).\n",
        "    \"\"\"\n",
        "    imp = model.feature_importances_\n",
        "    return np.count_nonzero(imp)\n",
        "\n",
        "\n",
        "def objective_logistic(trial):\n",
        "    \"\"\"\n",
        "    Optuna objective for logistic regression with L1 penalty.\n",
        "    \"\"\"\n",
        "\n",
        "    # hyperparameters for tuning\n",
        "    C = trial.suggest_float('C', 0.001, 0.01, log=True)\n",
        "    threshold = trial.suggest_float('threshold', 0.3, 0.7)\n",
        "\n",
        "    skf = StratifiedKFold(n_splits=5, shuffle=True, random_state=0)\n",
        "    fold_scores = []\n",
        "\n",
        "    # cross-validation loop\n",
        "    for tr_idx, val_idx in skf.split(x_train_final, y_train):\n",
        "        X_tr, X_val = x_train_final.iloc[tr_idx], x_train_final.iloc[val_idx]\n",
        "        y_tr, y_val = y_train.iloc[tr_idx], y_train.iloc[val_idx]\n",
        "\n",
        "        # model definition, probabilities, features\n",
        "        model = LogisticRegression(\n",
        "            penalty='l1', solver='saga', C=C,\n",
        "            max_iter=5000, random_state=0)\n",
        "        model.fit(X_tr, y_tr)\n",
        "        probs = model.predict_proba(X_val)[:, 1]\n",
        "        preds = (probs >= threshold).astype(int)\n",
        "        n_feats = np.count_nonzero(model.coef_)\n",
        "        fold_scores.append(net_score(y_val, preds, n_feats))\n",
        "\n",
        "    return np.mean(fold_scores)\n",
        "\n",
        "print(\"\\n--- Tuning logistic regression (L1) ---\")\n",
        "study_log = optuna.create_study(direction='maximize')\n",
        "study_log.optimize(objective_logistic, n_trials=10)\n",
        "\n",
        "best_log = study_log.best_params\n",
        "best_C_log = best_log['C']\n",
        "best_thr_log = best_log['threshold']\n",
        "print(\"Logistic L1 best parameters:\", best_log)\n",
        "\n",
        "print(\"Fitting final logistic L1 model...\")\n",
        "model_log = LogisticRegression(\n",
        "    penalty='l1', solver='saga', C=best_C_log,\n",
        "    max_iter=5000, random_state=0)\n",
        "model_log.fit(x_train_final, y_train)\n",
        "feat_log = list(np.where(model_log.coef_[0] != 0)[0])\n",
        "\n",
        "\n",
        "def objective_svm(trial):\n",
        "\n",
        "    \"\"\"\n",
        "    Optuna objective for SVM - only uses L1-selected features, needs scaling.\n",
        "    \"\"\"\n",
        "\n",
        "    # hyperparameters for tuning\n",
        "    C = trial.suggest_float('C', 0.01, 10.0, log=True)\n",
        "    threshold = trial.suggest_float('threshold', 0.3, 0.7)\n",
        "\n",
        "    skf = StratifiedKFold(n_splits=5, shuffle=True, random_state=0)\n",
        "    fold_scores = []\n",
        "\n",
        "    # cross-validation loop\n",
        "    for tr_idx, val_idx in skf.split(x_train_scaled, y_train):\n",
        "        X_tr, X_val = x_train_scaled.iloc[tr_idx, feat_log], x_train_scaled.iloc[val_idx, feat_log]\n",
        "        y_tr, y_val = y_train.iloc[tr_idx], y_train.iloc[val_idx]\n",
        "\n",
        "        # model definition, probabilities, features\n",
        "        model = SVC(C=C, kernel='linear', probability=True, random_state=0)\n",
        "        model.fit(X_tr, y_tr)\n",
        "        probs = model.predict_proba(X_val)[:, 1]\n",
        "        preds = (probs >= threshold).astype(int)\n",
        "        n_feats = len(feat_log)\n",
        "        fold_scores.append(net_score(y_val, preds, n_feats))\n",
        "\n",
        "    return np.mean(fold_scores)\n",
        "\n",
        "print(\"\\n--- Tuning SVM ---\")\n",
        "study_svm = optuna.create_study(direction='maximize')\n",
        "study_svm.optimize(objective_svm, n_trials=10)\n",
        "\n",
        "best_svm = study_svm.best_params\n",
        "best_C_svm = best_svm['C']\n",
        "best_thr_svm = best_svm['threshold']\n",
        "print(\"SVM best parameters:\", best_svm)\n",
        "\n",
        "print(\"Fitting final SVM model...\")\n",
        "model_svm = SVC(C=best_C_svm, kernel='linear', probability=True, random_state=0)\n",
        "model_svm.fit(x_train_scaled.iloc[:, feat_log], y_train)\n",
        "\n",
        "\n",
        "\n",
        "def objective_elastic(trial):\n",
        "\n",
        "    \"\"\"\n",
        "    Optuna objective for ElasticNet logistic regression.\n",
        "    \"\"\"\n",
        "\n",
        "    # hyperparameters for tuning\n",
        "    C = trial.suggest_float('C', 0.001, 0.1, log=True)\n",
        "    l1_ratio = trial.suggest_float('l1_ratio', 0.1, 1.0)\n",
        "    threshold = trial.suggest_float('threshold', 0.3, 0.7)\n",
        "\n",
        "    skf = StratifiedKFold(n_splits=5, shuffle=True, random_state=0)\n",
        "    fold_scores = []\n",
        "\n",
        "    # cross-validation loop\n",
        "    for tr_idx, val_idx in skf.split(x_train_final, y_train):\n",
        "        X_tr, X_val = x_train_final.iloc[tr_idx], x_train_final.iloc[val_idx]\n",
        "        y_tr, y_val = y_train.iloc[tr_idx], y_train.iloc[val_idx]\n",
        "\n",
        "        # model definition, probabilities, features\n",
        "        model = LogisticRegression(penalty='elasticnet', solver='saga', C=C, l1_ratio=l1_ratio, max_iter=5000, random_state=0)\n",
        "        model.fit(X_tr, y_tr)\n",
        "        probs = model.predict_proba(X_val)[:, 1]\n",
        "        preds = (probs >= threshold).astype(int)\n",
        "        n_feats = np.count_nonzero(model.coef_)\n",
        "        fold_scores.append(net_score(y_val, preds, n_feats))\n",
        "\n",
        "    return np.mean(fold_scores)\n",
        "\n",
        "print(\"\\n--- Tuning logistic regression (ElasticNet) ---\")\n",
        "study_enet = optuna.create_study(direction='maximize')\n",
        "study_enet.optimize(objective_elastic, n_trials=10)\n",
        "\n",
        "best_enet = study_enet.best_params\n",
        "best_C_enet = best_enet['C']\n",
        "best_l1_ratio = best_enet['l1_ratio']\n",
        "best_thr_enet = best_enet['threshold']\n",
        "print(\"ElasticNet best parameters:\", best_enet)\n",
        "\n",
        "print(\"Fitting final ElasticNet model...\")\n",
        "model_enet = LogisticRegression(\n",
        "    penalty='elasticnet', solver='saga',\n",
        "    C=best_C_enet, l1_ratio=best_l1_ratio,\n",
        "    max_iter=5000, random_state=0)\n",
        "model_enet.fit(x_train_final, y_train)\n",
        "\n",
        "\n",
        "def objective_rf(trial):\n",
        "\n",
        "    \"\"\"\n",
        "    Optuna objective for RandomForest -- uses SelectKBest for preselection.\n",
        "    \"\"\"\n",
        "\n",
        "    # hyperparameters for tuning\n",
        "    k = trial.suggest_int('k_features', 5, 40) # here, we use k best features selection\n",
        "    estimators = trial.suggest_int('n_estimators', 100, 500)\n",
        "    threshold = trial.suggest_float('threshold', 0.3, 0.7)\n",
        "    max_features = trial.suggest_float('max_features', 0.05, 1.0)\n",
        "\n",
        "    skf = StratifiedKFold(n_splits=5, shuffle=True, random_state=0)\n",
        "    fold_scores = []\n",
        "\n",
        "    # cross-validation loop\n",
        "    for tr_idx, val_idx in skf.split(x_train_final, y_train):\n",
        "        X_tr, X_val = x_train_final.iloc[tr_idx], x_train_final.iloc[val_idx]\n",
        "        y_tr, y_val = y_train.iloc[tr_idx], y_train.iloc[val_idx]\n",
        "\n",
        "        selector = SelectKBest(mutual_info_classif, k=k)\n",
        "        X_tr_sel = selector.fit_transform(X_tr, y_tr)\n",
        "        X_val_sel = selector.transform(X_val)\n",
        "\n",
        "        # model definition, probabilities, features\n",
        "        model = RandomForestClassifier(n_estimators=estimators, max_features=max_features, random_state=0, n_jobs=-1)\n",
        "        model.fit(X_tr_sel, y_tr)\n",
        "        probs = model.predict_proba(X_val_sel)[:, 1]\n",
        "        preds = (probs >= threshold).astype(int)\n",
        "        fold_scores.append(net_score(y_val, preds, k))\n",
        "\n",
        "    return np.mean(fold_scores)\n",
        "\n",
        "print(\"\\n--- Tuning random forest ---\")\n",
        "study_rf = optuna.create_study(direction='maximize')\n",
        "study_rf.optimize(objective_rf, n_trials=10)\n",
        "\n",
        "best_rf = study_rf.best_params\n",
        "best_k_rf = best_rf['k_features']\n",
        "best_mf_rf = best_rf['max_features']\n",
        "best_thr_rf = best_rf['threshold']\n",
        "best_estimators_rf = best_rf['n_estimators']\n",
        "print(\"RandomForest best parameters:\", best_rf)\n",
        "\n",
        "selector_rf = SelectKBest(mutual_info_classif, k=best_k_rf)\n",
        "x_train_rf_sel = selector_rf.fit_transform(x_train_final, y_train)\n",
        "model_rf = RandomForestClassifier(\n",
        "    n_estimators=best_estimators_rf,\n",
        "    max_features=best_mf_rf,\n",
        "    random_state=0, n_jobs=-1)\n",
        "model_rf.fit(x_train_rf_sel, y_train)\n",
        "\n",
        "\n",
        "def objective_xgb(trial):\n",
        "    \"\"\"\n",
        "    # Optuna objective for XGBoost (tree-based boosting, no feature selection).\n",
        "    \"\"\"\n",
        "\n",
        "    # hyperparameters for tuning\n",
        "    lambda_l1 = trial.suggest_float('lambda_l1', 50.0, 200.0, log=True)\n",
        "    max_depth = trial.suggest_int('max_depth', 2, 4)\n",
        "    colsample_bytree = trial.suggest_float('colsample_bytree', 0.1, 0.3)\n",
        "    threshold = trial.suggest_float('threshold', 0.3, 0.7)\n",
        "    estimators = trial.suggest_int('n_estimators', 100, 500)\n",
        "\n",
        "    skf = StratifiedKFold(n_splits=5, shuffle=True, random_state=0)\n",
        "    fold_scores = []\n",
        "\n",
        "    # cross-validation loop\n",
        "    for tr_idx, val_idx in skf.split(x_train_final, y_train):\n",
        "        X_tr, X_val = x_train_final.iloc[tr_idx], x_train_final.iloc[val_idx]\n",
        "        y_tr, y_val = y_train.iloc[tr_idx], y_train.iloc[val_idx]\n",
        "\n",
        "        # model definition, probabilities, features\n",
        "        model = XGBClassifier(\n",
        "            n_estimators=estimators,\n",
        "            eval_metric='logloss',\n",
        "            reg_alpha=lambda_l1,\n",
        "            reg_lambda=0.0,\n",
        "            max_depth=max_depth,\n",
        "            colsample_bytree=colsample_bytree,\n",
        "            random_state=0, n_jobs=-1)\n",
        "        model.fit(X_tr, y_tr)\n",
        "        probs = model.predict_proba(X_val)[:, 1]\n",
        "        preds = (probs >= threshold).astype(int)\n",
        "        n_feats = count_tree_features(model)\n",
        "        fold_scores.append(net_score(y_val, preds, n_feats))\n",
        "\n",
        "    return np.mean(fold_scores)\n",
        "\n",
        "print(\"\\n--- Tuning XGBoost ---\")\n",
        "study_xgb = optuna.create_study(direction='maximize')\n",
        "study_xgb.optimize(objective_xgb, n_trials=10)\n",
        "\n",
        "best_xgb = study_xgb.best_params\n",
        "best_l1_xgb = best_xgb['lambda_l1']\n",
        "best_depth_xgb = best_xgb['max_depth']\n",
        "best_col_xgb = best_xgb['colsample_bytree']\n",
        "best_thr_xgb = best_xgb['threshold']\n",
        "best_estimators_xgb = best_xgb['n_estimators']\n",
        "print(\"XGBoost best parameters:\", best_xgb)\n",
        "\n",
        "print(\"Fitting final XGBoost model...\")\n",
        "model_xgb = XGBClassifier(\n",
        "    n_estimators=best_estimators_xgb,\n",
        "    eval_metric='logloss',\n",
        "    reg_alpha=best_l1_xgb,\n",
        "    reg_lambda=0.0,\n",
        "    max_depth=best_depth_xgb,\n",
        "    colsample_bytree=best_col_xgb,\n",
        "    random_state=0, n_jobs=-1)\n",
        "model_xgb.fit(x_train_final, y_train)\n",
        "\n",
        "\n",
        "\n",
        "def objective_lgb(trial):\n",
        "    \"\"\"\n",
        "    Optuna objective for LightGBM (tree boosting, with SelectKBest feature selection).\n",
        "    \"\"\"\n",
        "\n",
        "    # hyperparameters for tuning\n",
        "    k = trial.suggest_int('k_features', 5, 40) # here, we use k best features selection\n",
        "    lambda_l1 = trial.suggest_float('lambda_l1', 0.01, 10.0, log=True)\n",
        "    max_depth = trial.suggest_int('max_depth', 2, 8)\n",
        "    colsample_bytree = trial.suggest_float('colsample_bytree', 0.3, 1.0)\n",
        "    threshold = trial.suggest_float('threshold', 0.3, 0.7)\n",
        "    estimators = trial.suggest_int('n_estimators', 100, 500)\n",
        "\n",
        "    skf = StratifiedKFold(n_splits=5, shuffle=True, random_state=0)\n",
        "    fold_scores = []\n",
        "\n",
        "    # cross-validation loop\n",
        "    for tr_idx, val_idx in skf.split(x_train_final, y_train):\n",
        "        X_tr, X_val = x_train_final.iloc[tr_idx], x_train_final.iloc[val_idx]\n",
        "        y_tr, y_val = y_train.iloc[tr_idx], y_train.iloc[val_idx]\n",
        "\n",
        "        selector = SelectKBest(mutual_info_classif, k=k)\n",
        "        X_tr_sel = selector.fit_transform(X_tr, y_tr)\n",
        "        X_val_sel = selector.transform(X_val)\n",
        "\n",
        "\n",
        "        # model definition, probabilities, features\n",
        "        model = LGBMClassifier(\n",
        "            n_estimators=estimators,\n",
        "            reg_lambda=lambda_l1,\n",
        "            reg_alpha=0.0,\n",
        "            max_depth=max_depth,\n",
        "            colsample_bytree=colsample_bytree,\n",
        "            random_state=0, n_jobs=-1, verbose=-1)\n",
        "        model.fit(X_tr_sel, y_tr)\n",
        "\n",
        "        probs = model.predict_proba(X_val_sel)[:, 1]\n",
        "        preds = (probs >= threshold).astype(int)\n",
        "        fold_scores.append(net_score(y_val, preds, k))\n",
        "\n",
        "    return np.mean(fold_scores)\n",
        "\n",
        "print(\"\\n--- Tuning LightGBM ---\")\n",
        "study_lgb = optuna.create_study(direction='maximize')\n",
        "study_lgb.optimize(objective_lgb, n_trials=10)\n",
        "\n",
        "best_lgb = study_lgb.best_params\n",
        "best_k_lgb = best_lgb['k_features']\n",
        "best_l1_lgb = best_lgb['lambda_l1']\n",
        "best_depth_lgb = best_lgb['max_depth']\n",
        "best_col_lgb = best_lgb['colsample_bytree']\n",
        "best_thr_lgb = best_lgb['threshold']\n",
        "best_estimators_lgb = best_lgb['n_estimators']\n",
        "print(\"LightGBM best parameters:\", best_lgb)\n",
        "\n",
        "selector_lgb = SelectKBest(mutual_info_classif, k=best_k_lgb)\n",
        "x_train_lgb_sel = selector_lgb.fit_transform(x_train_final, y_train)\n",
        "\n",
        "print(\"Fitting final LightGBM model...\")\n",
        "model_lgb = LGBMClassifier(\n",
        "    n_estimators=best_estimators_lgb,\n",
        "    reg_lambda=best_l1_lgb,\n",
        "    reg_alpha=0.0,\n",
        "    max_depth=best_depth_lgb,\n",
        "    colsample_bytree=best_col_lgb,\n",
        "    random_state=0, n_jobs=-1, verbose=-1)\n",
        "model_lgb.fit(x_train_lgb_sel, y_train)\n",
        "\n",
        "\n",
        "# after hyperparameter search, we fit final models with best params from Optuna results\n",
        "# We also store model, threshold, and model type for later use\n",
        "\n",
        "print(\"\\nFinal model tuning results:\")\n",
        "print(\"Logistic L1: C =\", best_C_log, \", threshold =\", best_thr_log,\n",
        "      \", # features =\", np.count_nonzero(model_log.coef_))\n",
        "print(\"SVM: C =\", best_C_svm, \", threshold =\", best_thr_svm,\n",
        "      \", # features =\", len(feat_log))\n",
        "print(\"ElasticNet: C =\", best_C_enet, \", l1_ratio =\", best_l1_ratio,\n",
        "      \", thresh =\", best_thr_enet, \", # features =\", np.count_nonzero(model_enet.coef_))\n",
        "print(\"RandomForest: max_features =\", best_mf_rf,\n",
        "      \", thresh =\", best_thr_rf, \", # features =\", count_tree_features(model_rf))\n",
        "print(\"XGBoost: lambda_l1 =\", best_l1_xgb, \", max_depth =\", best_depth_xgb,\n",
        "      \", colsample_bytree =\", best_col_xgb,\n",
        "      \", threshold =\", best_thr_xgb, \", # features =\", count_tree_features(model_xgb))\n",
        "print(\"LightGBM: lambda_l1 =\", best_l1_lgb, \", max_depth =\", best_depth_lgb,\n",
        "      \", colsample_bytree =\", best_col_lgb,\n",
        "      \", threshold =\", best_thr_lgb, \", # features =\", count_tree_features(model_lgb))\n",
        "\n",
        "\n",
        "models_info = [\n",
        "    (\"Logistic L1\", model_log, best_thr_log, \"linear\"),\n",
        "    (\"SVM\", model_svm, best_thr_svm, \"linear\"),\n",
        "    (\"ElasticNet\", model_enet, best_thr_enet, \"linear\"),\n",
        "    (\"RandomForest\", model_rf, best_thr_rf, \"tree\"),\n",
        "    (\"XGBoost\", model_xgb, best_thr_xgb, \"tree\"),\n",
        "    (\"LightGBM\", model_lgb, best_thr_lgb, \"tree\")]\n",
        "\n",
        "\n",
        "# we find features actually used by each model\n",
        "feat_enet = list(np.where(model_enet.coef_[0] != 0)[0])\n",
        "feat_rf = list(np.where(model_rf.feature_importances_ > 0)[0])\n",
        "feat_xgb = list(np.where(model_xgb.feature_importances_ > 0)[0])\n",
        "feat_lgb = list(np.where(model_lgb.feature_importances_ > 0)[0])\n",
        "\n",
        "\n",
        "feature_dicts = {\n",
        "    'Logistic L1': feat_log,\n",
        "    'SVM': feat_log,\n",
        "    'ElasticNet': feat_enet,\n",
        "    'RandomForest': feat_rf,\n",
        "    'XGBoost': feat_xgb,\n",
        "    'LightGBM': feat_lgb,}\n",
        "\n",
        "\n",
        "# dicts used for automated model evaluation/selection in a loop\n",
        "model_dicts = [\n",
        "    {'name': 'Logistic L1', 'model': LogisticRegression, 'params': {'penalty': 'l1', 'solver': 'saga', 'C': best_C_log, 'max_iter': 10000, 'random_state': 0}},\n",
        "    {'name': 'SVM', 'model': SVC, 'params': {'C': best_C_svm, 'kernel': 'linear', 'probability': True, 'random_state': 0}},\n",
        "    {'name': 'ElasticNet', 'model': LogisticRegression, 'params': {'penalty': 'elasticnet', 'solver': 'saga', 'C': best_C_enet, 'l1_ratio': best_l1_ratio, 'max_iter': 10000, 'random_state': 0}},\n",
        "    {'name': 'RandomForest', 'model': RandomForestClassifier, 'params': {'n_estimators': best_estimators_rf, 'max_features': best_mf_rf, 'random_state': 0, 'n_jobs': -1}},\n",
        "    {'name': 'XGBoost', 'model': XGBClassifier, 'params': {'n_estimators': best_estimators_xgb, 'reg_alpha': best_l1_xgb, 'reg_lambda': 0.0, 'max_depth': best_depth_xgb, 'colsample_bytree': best_col_xgb, 'eval_metric': 'logloss', 'random_state': 0, 'n_jobs': -1}},\n",
        "    {'name': 'LightGBM', 'model': LGBMClassifier, 'params': {'n_estimators': best_estimators_lgb, 'reg_lambda': best_l1_lgb, 'reg_alpha': 0.0, 'max_depth': best_depth_lgb, 'colsample_bytree': best_col_lgb, 'random_state': 0, 'n_jobs': -1}},]\n",
        "\n",
        "\n",
        "\n",
        "# for each trained model we get predictions, calculate number of positives,\n",
        "# calculate feature importance with SHAP, and do feature stability bootstrapping\n",
        "\n",
        "for name, model, thr, model_type in models_info:\n",
        "    print(f\"\\n--- {name} analysis ---\")  #  1. We select/test correct variables for each model type due to feature selectors\n",
        "    if name == \"RandomForest\":\n",
        "        X_test_for_pred = selector_rf.transform(x_test_final)\n",
        "        X_train_for_shap = selector_rf.transform(x_train_final)\n",
        "        feature_names = x_train_final.columns[selector_rf.get_support()]\n",
        "\n",
        "    elif name == \"LightGBM\":\n",
        "        X_test_for_pred = selector_lgb.transform(x_test_final)\n",
        "        X_train_for_shap = selector_lgb.transform(x_train_final)\n",
        "        feature_names = x_train_final.columns[selector_lgb.get_support()]\n",
        "\n",
        "    elif name == \"SVM\":\n",
        "        X_test_for_pred = x_test_scaled.iloc[:, feature_dicts[name]]\n",
        "        X_train_for_shap = x_train_scaled.iloc[:, feature_dicts[name]]\n",
        "        feature_names = x_train_scaled.columns[feature_dicts[name]]\n",
        "\n",
        "    elif name in [\"Logistic L1\", \"ElasticNet\"]:\n",
        "        X_test_for_pred = x_test_final\n",
        "        X_train_for_shap = x_train_final\n",
        "        feature_names = x_train_final.columns\n",
        "    else:\n",
        "        X_test_for_pred = x_test_final\n",
        "        X_train_for_shap = x_train_final\n",
        "        feature_names = x_train_final.columns[feature_dicts[name]]\n",
        "\n",
        "    if not isinstance(X_train_for_shap, pd.DataFrame):\n",
        "         if name == \"RandomForest\":\n",
        "              X_train_for_shap = pd.DataFrame(X_train_for_shap, columns=feature_names)\n",
        "\n",
        "         elif name == \"SVM\":\n",
        "               pass\n",
        "\n",
        "         else:\n",
        "               X_train_for_shap = x_train_final.iloc[:, feature_dicts[name]]\n",
        "               feature_names = x_train_final.columns[feature_dicts[name]]\n",
        "\n",
        "    if not isinstance(X_test_for_pred, pd.DataFrame):\n",
        "         if name == \"RandomForest\":\n",
        "              X_test_for_pred = pd.DataFrame(X_test_for_pred, columns=feature_names)\n",
        "\n",
        "         elif name == \"SVM\":\n",
        "               pass\n",
        "\n",
        "         else:\n",
        "               X_test_for_pred = x_test_final.iloc[:, feature_dicts[name]]\n",
        "\n",
        "    test_probs = model.predict_proba(X_test_for_pred)[:, 1]  # 2. We predict test probabilities for thresholding\n",
        "    y_test_pred = (test_probs >= thr).astype(int)\n",
        "    frac_pos = np.mean(y_test_pred)\n",
        "    print(f\"Threshold = {thr:.2f}, # positives = {int(frac_pos * len(test_probs))} / {len(test_probs)}\")\n",
        "\n",
        "    if model_type == \"linear\": # 3. We use SHAP for interpretability: what features drive the prediction?\n",
        "        explainer = shap.LinearExplainer(model, X_train_for_shap, feature_perturbation=\"interventional\")\n",
        "        shap_vals = explainer.shap_values(X_train_for_shap)\n",
        "\n",
        "    else: # model_type is \"tree\"\n",
        "        explainer = shap.TreeExplainer(model, X_train_for_shap)\n",
        "        shap_vals = explainer.shap_values(X_train_for_shap)\n",
        "\n",
        "        if isinstance(shap_vals, list):\n",
        "            shap_vals = shap_vals[1]\n",
        "\n",
        "        elif shap_vals.ndim == 3:\n",
        "            shap_vals = shap_vals[:, 1, :]\n",
        "\n",
        "    mean_abs_shap = np.abs(shap_vals).mean(axis=0)\n",
        "\n",
        "    if len(feature_names) != len(mean_abs_shap):\n",
        "        feature_names = x_train_final.columns[:len(mean_abs_shap)]\n",
        "\n",
        "    shap_imp = pd.Series(mean_abs_shap, index=feature_names).sort_values(ascending=False)\n",
        "    print(\"Top 10 features by mean |SHAP|:\")\n",
        "    print(shap_imp.head(10))\n",
        "\n",
        "    B = 100 # 4. Bootstrapping: we see which features are most consistently selected in 100 resamples\n",
        "    rng = np.random.RandomState(0)\n",
        "    feat_count = pd.Series(0, index=x_train_final.columns)\n",
        "\n",
        "    for i in range(B):\n",
        "        idx = rng.choice(len(x_train_final), len(x_train_final), replace=True)\n",
        "        Xb, yb = x_train_final.iloc[idx], y_train.iloc[idx]\n",
        "\n",
        "        if name == \"Logistic L1\":\n",
        "            m = LogisticRegression(penalty='l1', solver='saga', C=best_C_log, max_iter=5000, random_state=i)\n",
        "            m.fit(Xb, yb)\n",
        "            sel = x_train_final.columns[m.coef_[0] != 0]\n",
        "\n",
        "        elif name == \"ElasticNet\":\n",
        "             m = LogisticRegression(penalty='elasticnet', solver='saga', C=best_C_enet, l1_ratio=best_l1_ratio, max_iter=5000, random_state=i)\n",
        "             m.fit(Xb, yb)\n",
        "             sel = x_train_final.columns[m.coef_[0] != 0]\n",
        "\n",
        "        elif name == \"RandomForest\":\n",
        "            selector_boot = SelectKBest(mutual_info_classif, k=best_k_rf)\n",
        "            Xb_sel = selector_boot.fit_transform(Xb, yb)\n",
        "            m = RandomForestClassifier(n_estimators=100, max_features=best_mf_rf, random_state=i, n_jobs=-1)\n",
        "            m.fit(Xb_sel, yb)\n",
        "            sel = x_train_final.columns[selector_boot.get_support()]\n",
        "\n",
        "        elif name == \"XGBoost\":\n",
        "            m = XGBClassifier(\n",
        "                n_estimators=100, eval_metric='logloss', reg_lambda=best_l1_xgb,\n",
        "                max_depth=best_depth_xgb, colsample_bytree=best_col_xgb,\n",
        "                random_state=i, n_jobs=-1)\n",
        "            m.fit(Xb, yb)\n",
        "            sel = x_train_final.columns[m.feature_importances_ > 0]\n",
        "\n",
        "        elif name == \"LightGBM\":\n",
        "             m = LGBMClassifier(\n",
        "                n_estimators=100, reg_lambda=best_l1_lgb, max_depth=best_depth_lgb,\n",
        "                colsample_bytree=best_col_lgb, random_state=i, n_jobs=-1, verbose=-1)\n",
        "             m.fit(Xb, yb)\n",
        "             sel = x_train_final.columns[m.feature_importances_ > 0]\n",
        "\n",
        "        elif name == \"SVM\":\n",
        "             scaler_boot = StandardScaler()\n",
        "             Xb_scaled = pd.DataFrame(scaler_boot.fit_transform(Xb.iloc[:, feat_log]), columns=x_train_final.columns[feat_log])\n",
        "             m = SVC(C=best_C_svm, kernel='linear', probability=True, random_state=i)\n",
        "             m.fit(Xb_scaled, yb)\n",
        "             sel = x_train_final.columns[feat_log]\n",
        "\n",
        "        else:\n",
        "            continue\n",
        "        feat_count[sel] += 1\n",
        "\n",
        "    feat_stability = feat_count.sort_values(ascending=False)\n",
        "    print(f\"\\nTop 10 features by selection stability ({B} bootstraps):\")\n",
        "    print(feat_stability.head(10))\n"
      ],
      "metadata": {
        "colab": {
          "base_uri": "https://localhost:8080/"
        },
        "id": "GFfoT3q4Fvh9",
        "outputId": "e6822ba5-f25e-4cc5-e8f2-c711d39d35da"
      },
      "execution_count": 32,
      "outputs": [
        {
          "output_type": "stream",
          "name": "stderr",
          "text": [
            "[I 2025-06-02 19:01:10,175] A new study created in memory with name: no-name-9bb05959-4617-46c8-b5b0-d63f061b95a3\n"
          ]
        },
        {
          "output_type": "stream",
          "name": "stdout",
          "text": [
            "\n",
            "--- Tuning logistic regression (L1) ---\n"
          ]
        },
        {
          "output_type": "stream",
          "name": "stderr",
          "text": [
            "[I 2025-06-02 19:01:11,526] Trial 0 finished with value: 4886.0 and parameters: {'C': 0.0010866194572825354, 'threshold': 0.39677241770939337}. Best is trial 0 with value: 4886.0.\n",
            "[I 2025-06-02 19:01:14,858] Trial 1 finished with value: 5000.0 and parameters: {'C': 0.004689165025855464, 'threshold': 0.3006110252736743}. Best is trial 1 with value: 5000.0.\n",
            "[I 2025-06-02 19:01:18,082] Trial 2 finished with value: 6016.0 and parameters: {'C': 0.004308463719336527, 'threshold': 0.577816360096079}. Best is trial 2 with value: 6016.0.\n",
            "[I 2025-06-02 19:01:23,705] Trial 3 finished with value: 5566.0 and parameters: {'C': 0.009001326116043038, 'threshold': 0.6458454883226993}. Best is trial 2 with value: 6016.0.\n",
            "[I 2025-06-02 19:01:26,969] Trial 4 finished with value: 4686.0 and parameters: {'C': 0.001517215180868521, 'threshold': 0.3782748922259009}. Best is trial 2 with value: 6016.0.\n",
            "[I 2025-06-02 19:01:29,725] Trial 5 finished with value: 5246.000000000001 and parameters: {'C': 0.0034108618780898754, 'threshold': 0.6643129562133717}. Best is trial 2 with value: 6016.0.\n",
            "[I 2025-06-02 19:01:31,435] Trial 6 finished with value: 5114.0 and parameters: {'C': 0.0012369752598733338, 'threshold': 0.632323712567997}. Best is trial 2 with value: 6016.0.\n",
            "[I 2025-06-02 19:01:32,828] Trial 7 finished with value: 5114.0 and parameters: {'C': 0.0010787918208993391, 'threshold': 0.5655627473557749}. Best is trial 2 with value: 6016.0.\n",
            "[I 2025-06-02 19:01:35,830] Trial 8 finished with value: 5400.0 and parameters: {'C': 0.002582660943865377, 'threshold': 0.6096144091950526}. Best is trial 2 with value: 6016.0.\n",
            "[I 2025-06-02 19:01:38,979] Trial 9 finished with value: 6388.0 and parameters: {'C': 0.004115597026880037, 'threshold': 0.42834637761414496}. Best is trial 9 with value: 6388.0.\n"
          ]
        },
        {
          "output_type": "stream",
          "name": "stdout",
          "text": [
            "Logistic L1 best parameters: {'C': 0.004115597026880037, 'threshold': 0.42834637761414496}\n",
            "Fitting final logistic L1 model...\n"
          ]
        },
        {
          "output_type": "stream",
          "name": "stderr",
          "text": [
            "[I 2025-06-02 19:01:39,674] A new study created in memory with name: no-name-4d6699ff-3372-439a-89c6-e7bcacad8ffa\n"
          ]
        },
        {
          "output_type": "stream",
          "name": "stdout",
          "text": [
            "\n",
            "--- Tuning SVM ---\n"
          ]
        },
        {
          "output_type": "stream",
          "name": "stderr",
          "text": [
            "[I 2025-06-02 19:01:46,729] Trial 0 finished with value: 6144.0 and parameters: {'C': 0.029088555557732727, 'threshold': 0.619424825142124}. Best is trial 0 with value: 6144.0.\n",
            "[I 2025-06-02 19:01:54,790] Trial 1 finished with value: 6514.0 and parameters: {'C': 1.1082561012249945, 'threshold': 0.4027615405217546}. Best is trial 1 with value: 6514.0.\n",
            "[I 2025-06-02 19:02:05,142] Trial 2 finished with value: 5722.0 and parameters: {'C': 3.7157110899416543, 'threshold': 0.3099244314672723}. Best is trial 1 with value: 6514.0.\n",
            "[I 2025-06-02 19:02:13,283] Trial 3 finished with value: 6172.0 and parameters: {'C': 1.1288282038533914, 'threshold': 0.6127912727827767}. Best is trial 1 with value: 6514.0.\n",
            "[I 2025-06-02 19:02:23,743] Trial 4 finished with value: 6454.0 and parameters: {'C': 4.80236537185155, 'threshold': 0.570697299853171}. Best is trial 1 with value: 6514.0.\n",
            "[I 2025-06-02 19:02:30,903] Trial 5 finished with value: 5695.999999999999 and parameters: {'C': 0.013412814784428071, 'threshold': 0.6899621667135297}. Best is trial 1 with value: 6514.0.\n",
            "[I 2025-06-02 19:02:40,461] Trial 6 finished with value: 6122.0 and parameters: {'C': 2.591668099858337, 'threshold': 0.35871004856692407}. Best is trial 1 with value: 6514.0.\n",
            "[I 2025-06-02 19:02:51,575] Trial 7 finished with value: 5828.0 and parameters: {'C': 6.069715729676136, 'threshold': 0.32283487734475874}. Best is trial 1 with value: 6514.0.\n",
            "[I 2025-06-02 19:02:58,710] Trial 8 finished with value: 6250.0 and parameters: {'C': 0.041848717996942196, 'threshold': 0.5992992424294663}. Best is trial 1 with value: 6514.0.\n",
            "[I 2025-06-02 19:03:05,717] Trial 9 finished with value: 6738.0 and parameters: {'C': 0.021424553782653916, 'threshold': 0.5267658608059085}. Best is trial 9 with value: 6738.0.\n"
          ]
        },
        {
          "output_type": "stream",
          "name": "stdout",
          "text": [
            "SVM best parameters: {'C': 0.021424553782653916, 'threshold': 0.5267658608059085}\n",
            "Fitting final SVM model...\n"
          ]
        },
        {
          "output_type": "stream",
          "name": "stderr",
          "text": [
            "[I 2025-06-02 19:03:07,962] A new study created in memory with name: no-name-a070d5ce-eaf9-45e6-ad19-d7062550dc57\n"
          ]
        },
        {
          "output_type": "stream",
          "name": "stdout",
          "text": [
            "\n",
            "--- Tuning logistic regression (ElasticNet) ---\n"
          ]
        },
        {
          "output_type": "stream",
          "name": "stderr",
          "text": [
            "[I 2025-06-02 19:03:13,887] Trial 0 finished with value: 4966.0 and parameters: {'C': 0.003932583083555003, 'l1_ratio': 0.6476130291495433, 'threshold': 0.6808985338241949}. Best is trial 0 with value: 4966.0.\n",
            "[I 2025-06-02 19:03:19,504] Trial 1 finished with value: 5292.0 and parameters: {'C': 0.006306438314744412, 'l1_ratio': 0.8530079331866992, 'threshold': 0.32895610276078097}. Best is trial 1 with value: 5292.0.\n",
            "[I 2025-06-02 19:03:41,730] Trial 2 finished with value: -16184.0 and parameters: {'C': 0.01897887010452582, 'l1_ratio': 0.6520124751341382, 'threshold': 0.3707777281765396}. Best is trial 1 with value: 5292.0.\n",
            "[I 2025-06-02 19:03:46,922] Trial 3 finished with value: 5212.0 and parameters: {'C': 0.0031199007921531947, 'l1_ratio': 0.5022252234064118, 'threshold': 0.5688519273226164}. Best is trial 1 with value: 5292.0.\n",
            "[I 2025-06-02 19:03:52,780] Trial 4 finished with value: 5458.0 and parameters: {'C': 0.0041986137077120915, 'l1_ratio': 0.42644131867900925, 'threshold': 0.5329684935849518}. Best is trial 4 with value: 5458.0.\n",
            "[I 2025-06-02 19:04:14,482] Trial 5 finished with value: -31178.0 and parameters: {'C': 0.02183452578549084, 'l1_ratio': 0.5546969307714604, 'threshold': 0.5993181813109484}. Best is trial 4 with value: 5458.0.\n",
            "[I 2025-06-02 19:04:31,226] Trial 6 finished with value: 2339.999999999999 and parameters: {'C': 0.013006204651784417, 'l1_ratio': 0.7769323391276518, 'threshold': 0.4542192933591262}. Best is trial 4 with value: 5458.0.\n",
            "[I 2025-06-02 19:04:34,220] Trial 7 finished with value: 4160.0 and parameters: {'C': 0.0011038479132156368, 'l1_ratio': 0.4017351815071285, 'threshold': 0.3626878086692971}. Best is trial 4 with value: 5458.0.\n",
            "[I 2025-06-02 19:04:45,788] Trial 8 finished with value: -69100.0 and parameters: {'C': 0.016225655547034812, 'l1_ratio': 0.1339687288200897, 'threshold': 0.5358075800202463}. Best is trial 4 with value: 5458.0.\n",
            "[I 2025-06-02 19:05:36,571] Trial 9 finished with value: -74272.0 and parameters: {'C': 0.08219824102967223, 'l1_ratio': 0.5019710223673743, 'threshold': 0.3233964534621778}. Best is trial 4 with value: 5458.0.\n"
          ]
        },
        {
          "output_type": "stream",
          "name": "stdout",
          "text": [
            "ElasticNet best parameters: {'C': 0.0041986137077120915, 'l1_ratio': 0.42644131867900925, 'threshold': 0.5329684935849518}\n",
            "Fitting final ElasticNet model...\n"
          ]
        },
        {
          "output_type": "stream",
          "name": "stderr",
          "text": [
            "[I 2025-06-02 19:05:38,019] A new study created in memory with name: no-name-3d9eb6b2-dd20-45a3-a598-cfa596997a43\n"
          ]
        },
        {
          "output_type": "stream",
          "name": "stdout",
          "text": [
            "\n",
            "--- Tuning random forest ---\n"
          ]
        },
        {
          "output_type": "stream",
          "name": "stderr",
          "text": [
            "[I 2025-06-02 19:06:21,511] Trial 0 finished with value: 558.0 and parameters: {'k_features': 31, 'n_estimators': 409, 'threshold': 0.358691522677015, 'max_features': 0.09648922231484379}. Best is trial 0 with value: 558.0.\n",
            "[I 2025-06-02 19:07:08,805] Trial 1 finished with value: 5330.0 and parameters: {'k_features': 6, 'n_estimators': 487, 'threshold': 0.31105282043439925, 'max_features': 0.7766779057958391}. Best is trial 1 with value: 5330.0.\n",
            "[I 2025-06-02 19:07:51,973] Trial 2 finished with value: 5370.0 and parameters: {'k_features': 8, 'n_estimators': 184, 'threshold': 0.43346409641814065, 'max_features': 0.8962064060252466}. Best is trial 2 with value: 5370.0.\n",
            "[I 2025-06-02 19:08:33,455] Trial 3 finished with value: -758.0000000000002 and parameters: {'k_features': 39, 'n_estimators': 235, 'threshold': 0.4436061304935361, 'max_features': 0.0658438711819683}. Best is trial 2 with value: 5370.0.\n",
            "[I 2025-06-02 19:09:18,225] Trial 4 finished with value: 406.00000000000034 and parameters: {'k_features': 30, 'n_estimators': 115, 'threshold': 0.30903714036249413, 'max_features': 0.559018232156969}. Best is trial 2 with value: 5370.0.\n",
            "[I 2025-06-02 19:10:06,597] Trial 5 finished with value: 5278.0 and parameters: {'k_features': 9, 'n_estimators': 382, 'threshold': 0.48274332981049994, 'max_features': 0.8152357283582716}. Best is trial 2 with value: 5370.0.\n",
            "[I 2025-06-02 19:10:46,443] Trial 6 finished with value: 5210.0 and parameters: {'k_features': 8, 'n_estimators': 130, 'threshold': 0.6243978610634691, 'max_features': 0.32843794812379135}. Best is trial 2 with value: 5370.0.\n",
            "[I 2025-06-02 19:12:04,165] Trial 7 finished with value: -726.0000000000002 and parameters: {'k_features': 35, 'n_estimators': 381, 'threshold': 0.6949683464554022, 'max_features': 0.8127734433859077}. Best is trial 2 with value: 5370.0.\n",
            "[I 2025-06-02 19:12:48,454] Trial 8 finished with value: -550.0 and parameters: {'k_features': 38, 'n_estimators': 101, 'threshold': 0.42374104347500813, 'max_features': 0.4318193980330756}. Best is trial 2 with value: 5370.0.\n",
            "[I 2025-06-02 19:13:48,611] Trial 9 finished with value: 2003.9999999999995 and parameters: {'k_features': 26, 'n_estimators': 490, 'threshold': 0.5063820025747796, 'max_features': 0.4876126871060886}. Best is trial 2 with value: 5370.0.\n"
          ]
        },
        {
          "output_type": "stream",
          "name": "stdout",
          "text": [
            "RandomForest best parameters: {'k_features': 8, 'n_estimators': 184, 'threshold': 0.43346409641814065, 'max_features': 0.8962064060252466}\n"
          ]
        },
        {
          "output_type": "stream",
          "name": "stderr",
          "text": [
            "[I 2025-06-02 19:13:59,432] A new study created in memory with name: no-name-ab8345f6-8b9d-4d38-a8c6-b96e63f61de4\n"
          ]
        },
        {
          "output_type": "stream",
          "name": "stdout",
          "text": [
            "\n",
            "--- Tuning XGBoost ---\n"
          ]
        },
        {
          "output_type": "stream",
          "name": "stderr",
          "text": [
            "[I 2025-06-02 19:14:20,246] Trial 0 finished with value: -3186.0 and parameters: {'lambda_l1': 126.84077644043379, 'max_depth': 3, 'colsample_bytree': 0.1508558866781869, 'threshold': 0.3708614388473945, 'n_estimators': 156}. Best is trial 0 with value: -3186.0.\n",
            "[I 2025-06-02 19:14:32,375] Trial 1 finished with value: -5406.0 and parameters: {'lambda_l1': 154.86221999619374, 'max_depth': 4, 'colsample_bytree': 0.26580171506141237, 'threshold': 0.49075096367198584, 'n_estimators': 208}. Best is trial 0 with value: -3186.0.\n",
            "[I 2025-06-02 19:14:55,524] Trial 2 finished with value: -3866.0 and parameters: {'lambda_l1': 186.86680417829933, 'max_depth': 3, 'colsample_bytree': 0.11253295625765772, 'threshold': 0.5620467605782606, 'n_estimators': 270}. Best is trial 0 with value: -3186.0.\n",
            "[I 2025-06-02 19:15:22,558] Trial 3 finished with value: -11236.0 and parameters: {'lambda_l1': 58.54186508431659, 'max_depth': 4, 'colsample_bytree': 0.135817615810433, 'threshold': 0.46487443251145133, 'n_estimators': 403}. Best is trial 0 with value: -3186.0.\n",
            "[I 2025-06-02 19:15:49,929] Trial 4 finished with value: -7294.0 and parameters: {'lambda_l1': 112.6398037382277, 'max_depth': 4, 'colsample_bytree': 0.20376408169233237, 'threshold': 0.586100662834762, 'n_estimators': 347}. Best is trial 0 with value: -3186.0.\n",
            "[I 2025-06-02 19:16:07,820] Trial 5 finished with value: -9626.0 and parameters: {'lambda_l1': 62.09238465467455, 'max_depth': 4, 'colsample_bytree': 0.18332520743843395, 'threshold': 0.4844882345868946, 'n_estimators': 167}. Best is trial 0 with value: -3186.0.\n",
            "[I 2025-06-02 19:16:27,368] Trial 6 finished with value: -216.0 and parameters: {'lambda_l1': 82.62084937406128, 'max_depth': 2, 'colsample_bytree': 0.1501615162869488, 'threshold': 0.591791670042852, 'n_estimators': 279}. Best is trial 6 with value: -216.0.\n",
            "[I 2025-06-02 19:16:38,832] Trial 7 finished with value: -7068.0 and parameters: {'lambda_l1': 59.00963389542038, 'max_depth': 3, 'colsample_bytree': 0.13103127000944825, 'threshold': 0.5972800383233785, 'n_estimators': 244}. Best is trial 6 with value: -216.0.\n",
            "[I 2025-06-02 19:16:55,828] Trial 8 finished with value: -200.00000000000037 and parameters: {'lambda_l1': 51.29942338485272, 'max_depth': 2, 'colsample_bytree': 0.27479310085892994, 'threshold': 0.4230192904300725, 'n_estimators': 251}. Best is trial 8 with value: -200.00000000000037.\n",
            "[I 2025-06-02 19:16:59,466] Trial 9 finished with value: -2842.0 and parameters: {'lambda_l1': 79.97566653953503, 'max_depth': 3, 'colsample_bytree': 0.28695520175934025, 'threshold': 0.5775849398632256, 'n_estimators': 133}. Best is trial 8 with value: -200.00000000000037.\n"
          ]
        },
        {
          "output_type": "stream",
          "name": "stdout",
          "text": [
            "XGBoost best parameters: {'lambda_l1': 51.29942338485272, 'max_depth': 2, 'colsample_bytree': 0.27479310085892994, 'threshold': 0.4230192904300725, 'n_estimators': 251}\n",
            "Fitting final XGBoost model...\n"
          ]
        },
        {
          "output_type": "stream",
          "name": "stderr",
          "text": [
            "[I 2025-06-02 19:17:00,421] A new study created in memory with name: no-name-c8c2656b-4020-4810-a55d-ac95b39729f7\n"
          ]
        },
        {
          "output_type": "stream",
          "name": "stdout",
          "text": [
            "\n",
            "--- Tuning LightGBM ---\n"
          ]
        },
        {
          "output_type": "stream",
          "name": "stderr",
          "text": [
            "[I 2025-06-02 19:17:38,972] Trial 0 finished with value: 758.0 and parameters: {'k_features': 30, 'lambda_l1': 0.5300918947540816, 'max_depth': 6, 'colsample_bytree': 0.5929016828564146, 'threshold': 0.6588782723023708, 'n_estimators': 253}. Best is trial 0 with value: 758.0.\n",
            "[I 2025-06-02 19:18:18,486] Trial 1 finished with value: 3422.0 and parameters: {'k_features': 17, 'lambda_l1': 3.1463286171093054, 'max_depth': 7, 'colsample_bytree': 0.4627123358226023, 'threshold': 0.44039544716508905, 'n_estimators': 475}. Best is trial 1 with value: 3422.0.\n",
            "[I 2025-06-02 19:19:03,625] Trial 2 finished with value: 1948.0 and parameters: {'k_features': 25, 'lambda_l1': 0.3573515780147739, 'max_depth': 3, 'colsample_bytree': 0.7293779333453316, 'threshold': 0.39427859751503674, 'n_estimators': 243}. Best is trial 1 with value: 3422.0.\n",
            "[I 2025-06-02 19:19:47,865] Trial 3 finished with value: 2324.0 and parameters: {'k_features': 23, 'lambda_l1': 0.051895530388125735, 'max_depth': 2, 'colsample_bytree': 0.9275288955768994, 'threshold': 0.3523698695817148, 'n_estimators': 368}. Best is trial 1 with value: 3422.0.\n",
            "[I 2025-06-02 19:20:30,090] Trial 4 finished with value: 5528.0 and parameters: {'k_features': 8, 'lambda_l1': 0.2720587255797101, 'max_depth': 2, 'colsample_bytree': 0.7622642626393883, 'threshold': 0.5355067205122603, 'n_estimators': 176}. Best is trial 4 with value: 5528.0.\n",
            "[I 2025-06-02 19:21:11,379] Trial 5 finished with value: 4342.0 and parameters: {'k_features': 12, 'lambda_l1': 0.44524025997640687, 'max_depth': 2, 'colsample_bytree': 0.7167090942167491, 'threshold': 0.6544586548754345, 'n_estimators': 296}. Best is trial 4 with value: 5528.0.\n",
            "[I 2025-06-02 19:22:02,430] Trial 6 finished with value: -1129.9999999999995 and parameters: {'k_features': 39, 'lambda_l1': 0.08025328515152474, 'max_depth': 3, 'colsample_bytree': 0.7152996442272919, 'threshold': 0.6385425159356541, 'n_estimators': 437}. Best is trial 4 with value: 5528.0.\n",
            "[I 2025-06-02 19:22:59,330] Trial 7 finished with value: 881.9999999999998 and parameters: {'k_features': 30, 'lambda_l1': 0.20735022313875587, 'max_depth': 8, 'colsample_bytree': 0.5484217825669857, 'threshold': 0.5866180295128851, 'n_estimators': 311}. Best is trial 4 with value: 5528.0.\n",
            "[I 2025-06-02 19:23:37,630] Trial 8 finished with value: 3068.0 and parameters: {'k_features': 19, 'lambda_l1': 0.5597577528203622, 'max_depth': 5, 'colsample_bytree': 0.5238431809101626, 'threshold': 0.3785905450784578, 'n_estimators': 263}. Best is trial 4 with value: 5528.0.\n",
            "[I 2025-06-02 19:24:15,951] Trial 9 finished with value: 4774.0 and parameters: {'k_features': 10, 'lambda_l1': 0.016476315116442094, 'max_depth': 3, 'colsample_bytree': 0.5983890503169849, 'threshold': 0.644572094014727, 'n_estimators': 453}. Best is trial 4 with value: 5528.0.\n"
          ]
        },
        {
          "output_type": "stream",
          "name": "stdout",
          "text": [
            "LightGBM best parameters: {'k_features': 8, 'lambda_l1': 0.2720587255797101, 'max_depth': 2, 'colsample_bytree': 0.7622642626393883, 'threshold': 0.5355067205122603, 'n_estimators': 176}\n",
            "Fitting final LightGBM model...\n",
            "\n",
            "Final model tuning results:\n",
            "Logistic L1: C = 0.004115597026880037 , threshold = 0.42834637761414496 , # features = 1\n",
            "SVM: C = 0.021424553782653916 , threshold = 0.5267658608059085 , # features = 1\n",
            "ElasticNet: C = 0.0041986137077120915 , l1_ratio = 0.42644131867900925 , thresh = 0.5329684935849518 , # features = 8\n",
            "RandomForest: max_features = 0.8962064060252466 , thresh = 0.43346409641814065 , # features = 8\n",
            "XGBoost: lambda_l1 = 51.29942338485272 , max_depth = 2 , colsample_bytree = 0.27479310085892994 , threshold = 0.4230192904300725 , # features = 49\n",
            "LightGBM: lambda_l1 = 0.2720587255797101 , max_depth = 2 , colsample_bytree = 0.7622642626393883 , threshold = 0.5355067205122603 , # features = 8\n",
            "\n",
            "--- Logistic L1 analysis ---\n",
            "Threshold = 0.43, # positives = 3184 / 5000\n",
            "Top 10 features by mean |SHAP|:\n",
            "2      0.481451\n",
            "342    0.000000\n",
            "341    0.000000\n",
            "340    0.000000\n",
            "339    0.000000\n",
            "338    0.000000\n",
            "337    0.000000\n",
            "336    0.000000\n",
            "335    0.000000\n",
            "334    0.000000\n",
            "dtype: float64\n",
            "\n",
            "Top 10 features by selection stability (100 bootstraps):\n",
            "2      100\n",
            "6       46\n",
            "414      4\n",
            "5        3\n",
            "8        1\n",
            "343      0\n",
            "342      0\n",
            "341      0\n",
            "340      0\n",
            "339      0\n",
            "dtype: int64\n",
            "\n",
            "--- SVM analysis ---\n",
            "Threshold = 0.53, # positives = 2009 / 5000\n",
            "Top 10 features by mean |SHAP|:\n",
            "2    0.805852\n",
            "dtype: float64\n",
            "\n",
            "Top 10 features by selection stability (100 bootstraps):\n",
            "2      100\n",
            "342      0\n",
            "341      0\n",
            "340      0\n",
            "339      0\n",
            "338      0\n",
            "337      0\n",
            "336      0\n",
            "335      0\n",
            "334      0\n",
            "dtype: int64\n",
            "\n",
            "--- ElasticNet analysis ---\n",
            "Threshold = 0.53, # positives = 1850 / 5000\n",
            "Top 10 features by mean |SHAP|:\n",
            "2      0.297191\n",
            "6      0.134027\n",
            "462    0.087454\n",
            "3      0.052282\n",
            "8      0.047878\n",
            "414    0.008463\n",
            "228    0.006061\n",
            "458    0.000948\n",
            "340    0.000000\n",
            "339    0.000000\n",
            "dtype: float64\n",
            "\n",
            "Top 10 features by selection stability (100 bootstraps):\n",
            "3      100\n",
            "462    100\n",
            "2      100\n",
            "6      100\n",
            "8       96\n",
            "414     69\n",
            "228     66\n",
            "4       52\n",
            "458     51\n",
            "332     39\n",
            "dtype: int64\n",
            "\n",
            "--- RandomForest analysis ---\n",
            "Threshold = 0.43, # positives = 2721 / 5000\n"
          ]
        },
        {
          "output_type": "stream",
          "name": "stderr",
          "text": [
            "100%|===================| 9985/10000 [09:00<00:00]       "
          ]
        },
        {
          "output_type": "stream",
          "name": "stdout",
          "text": [
            "Top 10 features by mean |SHAP|:\n",
            "0    0.108939\n",
            "1    0.108939\n",
            "dtype: float64\n",
            "\n",
            "Top 10 features by selection stability (100 bootstraps):\n",
            "6      100\n",
            "2      100\n",
            "3       99\n",
            "4       96\n",
            "8       92\n",
            "9       75\n",
            "5       72\n",
            "0       61\n",
            "1       58\n",
            "425     12\n",
            "dtype: int64\n",
            "\n",
            "--- XGBoost analysis ---\n",
            "Threshold = 0.42, # positives = 2700 / 5000\n",
            "Top 10 features by mean |SHAP|:\n",
            "2      0.282538\n",
            "6      0.198511\n",
            "3      0.142902\n",
            "462    0.125485\n",
            "8      0.125423\n",
            "4      0.108273\n",
            "0      0.042620\n",
            "228    0.038424\n",
            "298    0.033376\n",
            "414    0.023496\n",
            "dtype: float64\n",
            "\n",
            "Top 10 features by selection stability (100 bootstraps):\n",
            "2      100\n",
            "298    100\n",
            "462     99\n",
            "6       99\n",
            "228     98\n",
            "414     92\n",
            "332     92\n",
            "127     90\n",
            "425     90\n",
            "351     87\n",
            "dtype: int64\n",
            "\n",
            "--- LightGBM analysis ---\n",
            "Threshold = 0.54, # positives = 2438 / 5000\n",
            "Top 10 features by mean |SHAP|:\n",
            "1    0.879336\n",
            "5    0.215970\n",
            "6    0.204252\n",
            "2    0.185516\n",
            "3    0.143298\n",
            "4    0.088880\n",
            "8    0.078462\n",
            "0    0.042522\n",
            "dtype: float64\n",
            "\n",
            "Top 10 features by selection stability (100 bootstraps):\n",
            "462    100\n",
            "2      100\n",
            "6       99\n",
            "414     97\n",
            "8       91\n",
            "115     90\n",
            "425     90\n",
            "298     89\n",
            "332     80\n",
            "254     79\n",
            "dtype: int64\n"
          ]
        }
      ]
    },
    {
      "cell_type": "code",
      "source": [
        "import numpy as np\n",
        "from sklearn.model_selection import StratifiedKFold\n",
        "from sklearn.metrics import accuracy_score\n",
        "from scipy.special import expit\n",
        "\n",
        "def net_score(y_true, y_pred, n_features):\n",
        "    \"\"\"\n",
        "    A score that balances number of correct positives vs. number of features (parsimony vs. accuracy).\n",
        "    \"\"\"\n",
        "    acc = accuracy_score(y_true, y_pred)\n",
        "    return 10 * acc * len(y_true) - 200 * n_features\n",
        "\n",
        "\n",
        "def has_predict_proba(model):\n",
        "    \"\"\"\n",
        "    Check if a model has a predict_proba method.\n",
        "    \"\"\"\n",
        "    return hasattr(model, \"predict_proba\") and callable(getattr(model, \"predict_proba\"))\n",
        "\n",
        "\n",
        "def evaluate_model_on_features(model_class, model_params, feats, X, y):\n",
        "\n",
        "    \"\"\"\n",
        "    We runs cross-validation for a given model, features, and params, then we find best threshold for net_score.\n",
        "    \"\"\"\n",
        "    skf = StratifiedKFold(n_splits=5, shuffle=True, random_state=0)\n",
        "    all_true, all_prob = [], []\n",
        "\n",
        "    for tr_idx, val_idx in skf.split(X, y):\n",
        "        X_tr = X.iloc[tr_idx, feats]\n",
        "        y_tr = y.iloc[tr_idx]\n",
        "        X_val = X.iloc[val_idx, feats]\n",
        "        y_val = y.iloc[val_idx]\n",
        "        model = model_class(**model_params)\n",
        "        model.fit(X_tr, y_tr)\n",
        "\n",
        "        if has_predict_proba(model): # we use predict_proba if available, otherwise, we use decision_function\n",
        "            prob = model.predict_proba(X_val)[:, 1]\n",
        "\n",
        "        else:\n",
        "            prob = model.decision_function(X_val)\n",
        "\n",
        "            if prob.min() < 0 or prob.max() > 1: # we convert scores to probs if needed\n",
        "                prob = expit(prob)\n",
        "\n",
        "        all_true.append(y_val.values)\n",
        "        all_prob.append(prob)\n",
        "\n",
        "    all_true = np.concatenate(all_true) # we combine results from all folds\n",
        "    all_prob = np.concatenate(all_prob)\n",
        "\n",
        "    best_net, best_thr = -np.inf, 0.5 # we search for threshold that maximizes the net score\n",
        "\n",
        "    for thr in np.linspace(0.1, 0.9, 81):\n",
        "        preds = (all_prob >= thr).astype(int)\n",
        "        net = net_score(all_true, preds, len(feats))\n",
        "\n",
        "        if net > best_net:\n",
        "            best_net, best_thr = net, thr\n",
        "\n",
        "    return best_net, best_thr\n",
        "\n",
        "results = []\n",
        "\n",
        "\n",
        "# we evaluate all models in the dictionary and store their net-scores and thresholds\n",
        "for model_info in model_dicts:\n",
        "    name = model_info['name']\n",
        "    feats = feature_dicts[name]\n",
        "\n",
        "    if len(feats) == 0:\n",
        "        print(f\"{name}: No selected features, skipping.\")\n",
        "        continue\n",
        "\n",
        "    net, thr = evaluate_model_on_features(model_info['model'], model_info['params'], feats, x_train_final, y_train)\n",
        "    print(f\"{name}: net-score = {net:.1f},  threshold {thr:.2f} with {len(feats)} features.\")\n",
        "    results.append({'name': name, 'feats': feats, 'net_score': net, 'threshold': thr})\n",
        "\n",
        "# we select the best model by net_score\n",
        "best_result = max(results, key=lambda d: d['net_score'])\n",
        "print(f\"\\nBest model: {best_result['name']} with net-score {best_result['net_score']:.1f}, {len(best_result['feats'])} features, and threshold {best_result['threshold']:.2f}\")\n",
        "\n",
        "# we fit the best model on the full training data\n",
        "final_model_info = next(item for item in model_dicts if item['name'] == best_result['name'])\n",
        "final_model = final_model_info['model'](**final_model_info['params'])\n",
        "final_model.fit(x_train_final.iloc[:, best_result['feats']], y_train)\n",
        "\n",
        "# we predict probabilities for the test set\n",
        "if has_predict_proba(final_model):\n",
        "    test_probs = final_model.predict_proba(x_test_final.iloc[:, best_result['feats']])[:, 1]\n",
        "\n",
        "else:\n",
        "    prob = final_model.decision_function(x_test_final.iloc[:, best_result['feats']])\n",
        "\n",
        "    if prob.min() < 0 or prob.max() > 1:\n",
        "        from scipy.special import expit\n",
        "        test_probs = expit(prob)\n",
        "    else:\n",
        "        test_probs = prob\n",
        "\n",
        "top_1000_idx = np.argsort(-test_probs)[:1000] # indexes of 1000 predicted results (probs)\n",
        "\n",
        "student_id = '323597'\n",
        "np.savetxt(f\"{student_id}_obs.txt\", top_1000_idx, fmt='%d') # saving according to the requirements (starting from 0)\n",
        "np.savetxt(f\"{student_id}_vars.txt\", best_result['feats'], fmt='%d')\n",
        "\n",
        "print(top_1000_idx[:10]) # checking if it is really starting from 0"
      ],
      "metadata": {
        "colab": {
          "base_uri": "https://localhost:8080/"
        },
        "id": "rnMCsEiwGjYT",
        "outputId": "a1cdf81c-c667-42f2-ac31-98aff4d370ec"
      },
      "execution_count": 34,
      "outputs": [
        {
          "output_type": "stream",
          "name": "stdout",
          "text": [
            "Logistic L1: net-score = 35100.0,  threshold 0.48 with 1 features.\n",
            "SVM: net-score = 35190.0,  threshold 0.49 with 1 features.\n",
            "ElasticNet: net-score = 33710.0,  threshold 0.49 with 8 features.\n",
            "RandomForest: net-score = 33590.0,  threshold 0.47 with 8 features.\n",
            "XGBoost: net-score = 25520.0,  threshold 0.47 with 49 features.\n",
            "LightGBM: net-score = 34030.0,  threshold 0.49 with 8 features.\n",
            "\n",
            "Best model: SVM with net-score 35190.0, 1 features, and threshold 0.49\n",
            "[2792 4755 3866 3780 2084 1361 3789 4354 2735 3447]\n"
          ]
        }
      ]
    },
    {
      "cell_type": "code",
      "source": [
        "import numpy as np\n",
        "from sklearn.svm import SVC\n",
        "from sklearn.model_selection import StratifiedKFold\n",
        "from sklearn.metrics import accuracy_score\n",
        "from sklearn.preprocessing import StandardScaler\n",
        "\n",
        "def evaluate_subset_svm(feats):\n",
        "\n",
        "    \"\"\"\n",
        "    As seen, SVM has the best net_score, we evaluate a candidate subset of best selected features (or just with other features).\n",
        "    \"\"\"\n",
        "\n",
        "    skf = StratifiedKFold(n_splits=5, shuffle=True, random_state=0)\n",
        "    all_true, all_prob = [], []\n",
        "    for tr_idx, val_idx in skf.split(x_train_final, y_train):\n",
        "\n",
        "        scaler = StandardScaler()\n",
        "        X_tr = scaler.fit_transform(x_train_final.iloc[tr_idx][feats])\n",
        "        X_val = scaler.transform(x_train_final.iloc[val_idx][feats])\n",
        "        y_tr = y_train.iloc[tr_idx]\n",
        "        y_val = y_train.iloc[val_idx]\n",
        "\n",
        "        model = SVC(\n",
        "            C=best_C_svm, kernel='linear', probability=True, random_state=0)\n",
        "        model.fit(X_tr, y_tr)\n",
        "\n",
        "        all_true.append(y_val.values)\n",
        "        all_prob.append(model.predict_proba(X_val)[:, 1])\n",
        "\n",
        "    all_true = np.concatenate(all_true)\n",
        "    all_prob = np.concatenate(all_prob)\n",
        "\n",
        "    best_net, best_thr = -np.inf, 0.5\n",
        "    for thr in np.linspace(0.1, 0.9, 81):\n",
        "        preds = (all_prob >= thr).astype(int)\n",
        "        net = net_score(all_true, preds, len(feats))\n",
        "        if net > best_net:\n",
        "            best_net, best_thr = net, thr\n",
        "    return best_net, best_thr\n",
        "\n",
        "\n",
        "candidates = [[2], [2, 342]]\n",
        "\n",
        "\n",
        "best_net = -np.inf\n",
        "winning_subset = None\n",
        "winning_thr = None\n",
        "\n",
        "for subset in candidates:\n",
        "    net, thr = evaluate_subset_svm(subset)\n",
        "    print(f\"Subset {subset}: CV net-score = {net:.1f},  threshold {thr:.2f}\")\n",
        "    if net > best_net:\n",
        "        best_net, winning_subset, winning_thr = net, subset, thr\n",
        "\n",
        "print(f\"\\nWinning subset: {winning_subset} with net-score {best_net:.1f}, threshold {winning_thr:.2f}\")\n",
        "\n",
        "scaler_final = StandardScaler()\n",
        "X_tr_final = scaler_final.fit_transform(x_train_final[winning_subset])\n",
        "X_te_final = scaler_final.transform(x_test_final[winning_subset])\n",
        "\n",
        "final = SVC(C=best_C_svm, kernel='linear', probability=True, random_state=0)\n",
        "final.fit(X_tr_final, y_train)\n",
        "y_test_pred = (final.predict_proba(X_te_final)[:,1] >= winning_thr).astype(int)"
      ],
      "metadata": {
        "colab": {
          "base_uri": "https://localhost:8080/"
        },
        "id": "rhZuAOFLz702",
        "outputId": "8fdb03a7-b035-4f06-aa0b-c8533428ed16"
      },
      "execution_count": 36,
      "outputs": [
        {
          "output_type": "stream",
          "name": "stdout",
          "text": [
            "Subset [2]: CV net-score = 35180.0,  threshold 0.49\n",
            "Subset [2, 342]: CV net-score = 34940.0,  threshold 0.46\n",
            "\n",
            "Winning subset: [2] with net-score 35180.0, threshold 0.49\n"
          ]
        }
      ]
    },
    {
      "cell_type": "markdown",
      "source": [
        "## Selected feature visualization"
      ],
      "metadata": {
        "id": "BRLUeDxCG4rt"
      }
    },
    {
      "cell_type": "code",
      "source": [
        "import matplotlib.pyplot as plt\n",
        "\n",
        "feat = 2\n",
        "\n",
        "train_stats = {\n",
        "    'mean': x_train[feat].mean(),\n",
        "    'median': x_train[feat].median(),\n",
        "    'std': x_train[feat].std(),\n",
        "    'min': x_train[feat].min(),\n",
        "    'max': x_train[feat].max()}\n",
        "\n",
        "test_stats = {\n",
        "    'mean': x_test[feat].mean(),\n",
        "    'median': x_test[feat].median(),\n",
        "    'std': x_test[feat].std(),\n",
        "    'min': x_test[feat].min(),\n",
        "    'max': x_test[feat].max()}\n",
        "\n",
        "\n",
        "print(\"Feature 2 – training set statistics:\")\n",
        "print(train_stats)\n",
        "print(\"\\nFeature 2 – test set statistics:\")\n",
        "print(test_stats)\n",
        "\n",
        "plt.figure()\n",
        "plt.hist(x_train[feat], bins=30)\n",
        "plt.title('Feature 2 distribution – training set')\n",
        "plt.xlabel('Value')\n",
        "plt.ylabel('Frequency')\n",
        "plt.show()\n",
        "\n",
        "plt.figure()\n",
        "plt.hist(x_test[feat], bins=30)\n",
        "plt.title('Feature 2 distribution – test set')\n",
        "plt.xlabel('Value')\n",
        "plt.ylabel('Frequency')\n",
        "plt.show()\n"
      ],
      "metadata": {
        "colab": {
          "base_uri": "https://localhost:8080/",
          "height": 1000
        },
        "id": "DBRj-u4l0aA7",
        "outputId": "24a5cc34-9b39-4eb0-908e-d9c09c139633"
      },
      "execution_count": 37,
      "outputs": [
        {
          "output_type": "stream",
          "name": "stdout",
          "text": [
            "Feature 2 – training set statistics:\n",
            "{'mean': np.float64(27.75008354959396), 'median': 27.1105612298134, 'std': 6.946854798411649, 'min': 9.36101575097885, 'max': 58.1441483368565}\n",
            "\n",
            "Feature 2 – test set statistics:\n",
            "{'mean': np.float64(27.736016441053316), 'median': 27.27966727062615, 'std': 6.634691184525826, 'min': 10.1794240572433, 'max': 59.9774966977393}\n"
          ]
        },
        {
          "output_type": "display_data",
          "data": {
            "text/plain": [
              "<Figure size 640x480 with 1 Axes>"
            ],
            "image/png": "[encoded data removed]"
          },
          "metadata": {}
        },
        {
          "output_type": "display_data",
          "data": {
            "text/plain": [
              "<Figure size 640x480 with 1 Axes>"
            ],
            "image/png": "[encoded data removed]"
          },
          "metadata": {}
        }
      ]
    },
    {
      "cell_type": "markdown",
      "source": [
        "What we can observe is that mean and median values are nearly identical between the two sets. Such trend means good consistency and no distribution shift for this feature. Moreover, we have no evidence of train-test drift for this feature. This is crucial because we want features that behave similarly in both training and test data."
      ],
      "metadata": {
        "id": "wEcrG_ugIkgB"
      }
    },
    {
      "cell_type": "markdown",
      "source": [
        "The overlap between these two sets shows the above conclusion in even a better way, as well as the plots below (barplots, violin plots):"
      ],
      "metadata": {
        "id": "YEaj5PfWJLP4"
      }
    },
    {
      "cell_type": "code",
      "source": [
        "import seaborn as sns\n",
        "\n",
        "plt.figure(figsize=(8,5))\n",
        "sns.histplot(x_train[feat], bins=30, color='blue', stat='density', label='Train', kde=True, alpha=0.5)\n",
        "sns.histplot(x_test[feat], bins=30, color='orange', stat='density', label='Test', kde=True, alpha=0.5)\n",
        "plt.legend()\n",
        "plt.title(f'Feature {feat} distribution (Train vs Test)')\n",
        "plt.xlabel('Value')\n",
        "plt.ylabel('Density')\n",
        "plt.show()"
      ],
      "metadata": {
        "colab": {
          "base_uri": "https://localhost:8080/",
          "height": 487
        },
        "id": "KuSdViEp7MKf",
        "outputId": "5f07cfea-2df9-4ace-b481-744865c7b861"
      },
      "execution_count": 38,
      "outputs": [
        {
          "output_type": "display_data",
          "data": {
            "text/plain": [
              "<Figure size 800x500 with 1 Axes>"
            ],
            "image/png": "[encoded data removed]"
          },
          "metadata": {}
        }
      ]
    },
    {
      "cell_type": "code",
      "source": [
        "plt.figure(figsize=(6,4))\n",
        "plt.boxplot([x_train[feat], x_test[feat]], tick_labels=['Train', 'Test'])\n",
        "plt.title(f'Feature {feat} boxplot (Train vs Test)')\n",
        "plt.ylabel('Value')\n",
        "plt.show()"
      ],
      "metadata": {
        "colab": {
          "base_uri": "https://localhost:8080/",
          "height": 391
        },
        "id": "TauTj7dF7aZr",
        "outputId": "e8b40038-6c37-4702-a533-7fd4967dd1d9"
      },
      "execution_count": 48,
      "outputs": [
        {
          "output_type": "display_data",
          "data": {
            "text/plain": [
              "<Figure size 600x400 with 1 Axes>"
            ],
            "image/png": "[encoded data removed]"
          },
          "metadata": {}
        }
      ]
    },
    {
      "cell_type": "code",
      "source": [
        "import pandas as pd\n",
        "\n",
        "tmp = pd.DataFrame({\n",
        "    'value': np.concatenate([x_train[feat], x_test[feat]]),\n",
        "    'set': ['Train']*len(x_train) + ['Test']*len(x_test)})\n",
        "\n",
        "sns.violinplot(x='set', y='value', data=tmp)\n",
        "plt.title(f'Feature {feat} Violin plot')\n",
        "plt.show()"
      ],
      "metadata": {
        "colab": {
          "base_uri": "https://localhost:8080/",
          "height": 472
        },
        "id": "oyXjpcmj7dt0",
        "outputId": "a931cc8b-d095-4f85-858c-f2d1e16e3f5d"
      },
      "execution_count": 40,
      "outputs": [
        {
          "output_type": "display_data",
          "data": {
            "text/plain": [
              "<Figure size 640x480 with 1 Axes>"
            ],
            "image/png": "[encoded data removed]"
          },
          "metadata": {}
        }
      ]
    },
    {
      "cell_type": "code",
      "source": [
        "plt.figure(figsize=(6,4))\n",
        "sns.histplot(x_train[feat][y_train == 0], color='green', label='Class 0', stat='density', kde=True, alpha=0.5)\n",
        "sns.histplot(x_train[feat][y_train == 1], color='red', label='Class 1', stat='density', kde=True, alpha=0.5)\n",
        "plt.legend()\n",
        "plt.title(f'Feature {feat} by target (Train only)')\n",
        "plt.xlabel('Value')\n",
        "plt.ylabel('Density')\n",
        "plt.show()\n"
      ],
      "metadata": {
        "colab": {
          "base_uri": "https://localhost:8080/",
          "height": 410
        },
        "id": "2orqJeAb7lza",
        "outputId": "117c2020-df3b-4cd6-eb1e-929c66dd8220"
      },
      "execution_count": 47,
      "outputs": [
        {
          "output_type": "display_data",
          "data": {
            "text/plain": [
              "<Figure size 600x400 with 1 Axes>"
            ],
            "image/png": "[encoded data removed]"
          },
          "metadata": {}
        }
      ]
    },
    {
      "cell_type": "markdown",
      "source": [
        "The plot of feature above 2 by target shows a clear difference in distributions between the two classes. Households with higher values of feature 2 are much more likely to exceed the usage threshold (class 1), while lower values are associated with class 0. This strong separation indicates that Feature 2 is a highly informative predictor for the classification task."
      ],
      "metadata": {
        "id": "o_P85D3RL07T"
      }
    },
    {
      "cell_type": "code",
      "source": [
        "selected_feats = [2]  # top features\n",
        "corr_matrix = x_train[selected_feats].assign(target=y_train).corr()\n",
        "sns.heatmap(corr_matrix, annot=True, cmap='coolwarm')\n",
        "plt.title('Correlation heatmap')\n",
        "plt.show()"
      ],
      "metadata": {
        "colab": {
          "base_uri": "https://localhost:8080/",
          "height": 452
        },
        "id": "SDYRNO2L7oh_",
        "outputId": "23db1f89-1e0c-4d66-83cb-40edacd387b9"
      },
      "execution_count": 44,
      "outputs": [
        {
          "output_type": "display_data",
          "data": {
            "text/plain": [
              "<Figure size 640x480 with 2 Axes>"
            ],
            "image/png": "[encoded data removed]"
          },
          "metadata": {}
        }
      ]
    }
  ]
}